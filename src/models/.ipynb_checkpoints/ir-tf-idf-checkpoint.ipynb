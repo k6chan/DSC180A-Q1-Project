{
 "cells": [
  {
   "cell_type": "code",
   "execution_count": 1,
   "id": "625558e6",
   "metadata": {},
   "outputs": [],
   "source": [
    "import pandas as pd\n",
    "import sklearn.feature_extraction as fe\n",
    "import sklearn.metrics as m\n",
    "\n",
    "#\n",
    "import pickle\n",
    "import json\n",
    "import os"
   ]
  },
  {
   "cell_type": "markdown",
   "id": "687636ac",
   "metadata": {},
   "source": [
    "Notebook-only"
   ]
  },
  {
   "cell_type": "code",
   "execution_count": 2,
   "id": "224f11f4",
   "metadata": {},
   "outputs": [
    {
     "data": {
      "text/plain": [
       "['20News_coarse.pkl',\n",
       " 'nyt_seedwords.json',\n",
       " '20News_seedwords.json',\n",
       " 'nyt_coarse.pkl']"
      ]
     },
     "execution_count": 2,
     "metadata": {},
     "output_type": "execute_result"
    }
   ],
   "source": [
    "#\n",
    "original_directory = os.getcwd()\n",
    "os.chdir(\"../../data/raw\")\n",
    "os.listdir()"
   ]
  },
  {
   "cell_type": "code",
   "execution_count": 3,
   "id": "d353b119",
   "metadata": {},
   "outputs": [],
   "source": [
    "# read data\n",
    "\n",
    "#\n",
    "with open(\"nyt_coarse.pkl\", \"rb\") as fp:\n",
    "    data_nyt = pickle.load(fp)\n",
    "with open(\"20News_coarse.pkl\", \"rb\") as fp:\n",
    "    data_20news = pickle.load(fp)\n",
    "    \n",
    "with open(\"nyt_seedwords.json\") as fp:\n",
    "    seed_nyt = json.load(fp)\n",
    "with open(\"20News_seedwords.json\") as fp:\n",
    "    seed_20news = json.load(fp)"
   ]
  },
  {
   "cell_type": "code",
   "execution_count": 4,
   "id": "c03c3063",
   "metadata": {},
   "outputs": [
    {
     "data": {
      "text/html": [
       "<div>\n",
       "<style scoped>\n",
       "    .dataframe tbody tr th:only-of-type {\n",
       "        vertical-align: middle;\n",
       "    }\n",
       "\n",
       "    .dataframe tbody tr th {\n",
       "        vertical-align: top;\n",
       "    }\n",
       "\n",
       "    .dataframe thead th {\n",
       "        text-align: right;\n",
       "    }\n",
       "</style>\n",
       "<table border=\"1\" class=\"dataframe\">\n",
       "  <thead>\n",
       "    <tr style=\"text-align: right;\">\n",
       "      <th></th>\n",
       "      <th>sentence</th>\n",
       "      <th>label</th>\n",
       "    </tr>\n",
       "  </thead>\n",
       "  <tbody>\n",
       "    <tr>\n",
       "      <th>0</th>\n",
       "      <td>nasa, in preparation for a spacewalk on saturd...</td>\n",
       "      <td>science</td>\n",
       "    </tr>\n",
       "    <tr>\n",
       "      <th>1</th>\n",
       "      <td>if professional pride and strong defiance can ...</td>\n",
       "      <td>sports</td>\n",
       "    </tr>\n",
       "    <tr>\n",
       "      <th>2</th>\n",
       "      <td>admittedly, the language is reconstructed and ...</td>\n",
       "      <td>arts</td>\n",
       "    </tr>\n",
       "    <tr>\n",
       "      <th>3</th>\n",
       "      <td>palermo, sicily — roberta vinci beat top-seede...</td>\n",
       "      <td>sports</td>\n",
       "    </tr>\n",
       "    <tr>\n",
       "      <th>4</th>\n",
       "      <td>the argentine soccer club san lorenzo complete...</td>\n",
       "      <td>sports</td>\n",
       "    </tr>\n",
       "  </tbody>\n",
       "</table>\n",
       "</div>"
      ],
      "text/plain": [
       "                                            sentence    label\n",
       "0  nasa, in preparation for a spacewalk on saturd...  science\n",
       "1  if professional pride and strong defiance can ...   sports\n",
       "2  admittedly, the language is reconstructed and ...     arts\n",
       "3  palermo, sicily — roberta vinci beat top-seede...   sports\n",
       "4  the argentine soccer club san lorenzo complete...   sports"
      ]
     },
     "execution_count": 4,
     "metadata": {},
     "output_type": "execute_result"
    }
   ],
   "source": [
    "#\n",
    "data_nyt.head()\n",
    "# data_nyt.iloc[0][\"sentence\"]"
   ]
  },
  {
   "cell_type": "code",
   "execution_count": 5,
   "id": "7b7fb190",
   "metadata": {},
   "outputs": [
    {
     "data": {
      "text/html": [
       "<div>\n",
       "<style scoped>\n",
       "    .dataframe tbody tr th:only-of-type {\n",
       "        vertical-align: middle;\n",
       "    }\n",
       "\n",
       "    .dataframe tbody tr th {\n",
       "        vertical-align: top;\n",
       "    }\n",
       "\n",
       "    .dataframe thead th {\n",
       "        text-align: right;\n",
       "    }\n",
       "</style>\n",
       "<table border=\"1\" class=\"dataframe\">\n",
       "  <thead>\n",
       "    <tr style=\"text-align: right;\">\n",
       "      <th></th>\n",
       "      <th>sentence</th>\n",
       "      <th>label</th>\n",
       "    </tr>\n",
       "  </thead>\n",
       "  <tbody>\n",
       "    <tr>\n",
       "      <th>0</th>\n",
       "      <td>from:  (where's my thing)\\nsubject: what car i...</td>\n",
       "      <td>rec</td>\n",
       "    </tr>\n",
       "    <tr>\n",
       "      <th>1</th>\n",
       "      <td>from:  (guy kuo)\\nsubject: si clock poll - fin...</td>\n",
       "      <td>comp</td>\n",
       "    </tr>\n",
       "    <tr>\n",
       "      <th>2</th>\n",
       "      <td>from:  (thomas e willis)\\nsubject: pb question...</td>\n",
       "      <td>comp</td>\n",
       "    </tr>\n",
       "    <tr>\n",
       "      <th>3</th>\n",
       "      <td>from: jgreen@amber (joe green)\\nsubject: re: w...</td>\n",
       "      <td>comp</td>\n",
       "    </tr>\n",
       "    <tr>\n",
       "      <th>4</th>\n",
       "      <td>from:  (jonathan mcdowell)\\nsubject: re: shutt...</td>\n",
       "      <td>sci</td>\n",
       "    </tr>\n",
       "  </tbody>\n",
       "</table>\n",
       "</div>"
      ],
      "text/plain": [
       "                                            sentence label\n",
       "0  from:  (where's my thing)\\nsubject: what car i...   rec\n",
       "1  from:  (guy kuo)\\nsubject: si clock poll - fin...  comp\n",
       "2  from:  (thomas e willis)\\nsubject: pb question...  comp\n",
       "3  from: jgreen@amber (joe green)\\nsubject: re: w...  comp\n",
       "4  from:  (jonathan mcdowell)\\nsubject: re: shutt...   sci"
      ]
     },
     "execution_count": 5,
     "metadata": {},
     "output_type": "execute_result"
    }
   ],
   "source": [
    "#\n",
    "data_20news.head() #newline characters visible"
   ]
  },
  {
   "cell_type": "code",
   "execution_count": 6,
   "id": "a709a4b3",
   "metadata": {},
   "outputs": [
    {
     "data": {
      "text/plain": [
       "{'arts': ['music', 'orchestra', 'album', 'opera', 'ballet'],\n",
       " 'business': ['companies', 'euro', 'economy', 'batteries', 'sales'],\n",
       " 'science': ['space', 'researchers', 'scientists', 'research', 'science'],\n",
       " 'sports': ['yankees', 'cup', 'league', 'basketball', 'golf'],\n",
       " 'politics': ['republicans', 'senator', 'senate', 'democrats', 'election']}"
      ]
     },
     "execution_count": 6,
     "metadata": {},
     "output_type": "execute_result"
    }
   ],
   "source": [
    "#\n",
    "seed_nyt #same format as 20News seed words"
   ]
  },
  {
   "cell_type": "code",
   "execution_count": 40,
   "id": "239d77e3",
   "metadata": {},
   "outputs": [
    {
     "data": {
      "text/plain": [
       "{'alt': ['atheism', 'atheists', 'religion', 'objective'],\n",
       " 'comp': ['graphics', 'windows', 'scsi', 'mac'],\n",
       " 'misc': ['sale', 'offer', 'shipping', 'forsale'],\n",
       " 'rec': ['car', 'bike', 'game', 'team'],\n",
       " 'sci': ['encryption', 'circuit', 'candida', 'space'],\n",
       " 'talk': ['turkish', 'gun', 'jews', 'armenian'],\n",
       " 'soc': ['church', 'jesus', 'christ', 'christians']}"
      ]
     },
     "execution_count": 40,
     "metadata": {},
     "output_type": "execute_result"
    }
   ],
   "source": [
    "seed_20news"
   ]
  },
  {
   "cell_type": "markdown",
   "id": "d3032a96",
   "metadata": {},
   "source": [
    "# TF-IDF"
   ]
  },
  {
   "cell_type": "markdown",
   "id": "795b539d",
   "metadata": {},
   "source": [
    "## NYT"
   ]
  },
  {
   "cell_type": "markdown",
   "id": "731e9663",
   "metadata": {},
   "source": [
    "IR-TF-IDF treats the seed word set for each class as a query. The relevance of a document to a label is computed by aggregated TF-IDF values of its respective seed words. The label with the highest relevance is assigned to each document."
   ]
  },
  {
   "cell_type": "code",
   "execution_count": 7,
   "id": "a175939b",
   "metadata": {},
   "outputs": [],
   "source": [
    "# genres_nyt = {}\n",
    "# for genre,seed_words in seed_nyt.items():\n",
    "#     for seed_word in seed_words:\n",
    "#         genres_nyt[seed_word] = genre\n",
    "        \n",
    "# genres_nyt"
   ]
  },
  {
   "cell_type": "code",
   "execution_count": 8,
   "id": "48df88ea",
   "metadata": {},
   "outputs": [],
   "source": [
    "# ir-tf-idf replication\n",
    "\n",
    "# intialize vectorizer\n",
    "# tfidf_model = fe.text.TfidfVectorizer(input=\"content\", stop_words = {'english'})\n",
    "# tfidf_vector = tfidf_model.fit_transform(data_nyt[\"sentence\"])"
   ]
  },
  {
   "cell_type": "code",
   "execution_count": 9,
   "id": "8362a8d2",
   "metadata": {},
   "outputs": [],
   "source": [
    "#get vector with\n",
    "# filtered = list(filter(lambda item: item[1] in genres_nyt, zip(tfidf_vector[0].toarray()[0].tolist(),tfidf_model.get_feature_names_out())))"
   ]
  },
  {
   "cell_type": "code",
   "execution_count": 10,
   "id": "9822133f",
   "metadata": {},
   "outputs": [],
   "source": [
    "# list(filtered)\n",
    "# label_test = max(filtered, key=lambda item: item[0])\n",
    "# label_test[1]"
   ]
  },
  {
   "cell_type": "code",
   "execution_count": 11,
   "id": "393b18c4",
   "metadata": {},
   "outputs": [],
   "source": [
    "# nyt_tfidf = dict(zip(tfidf_model.get_feature_names_out()[i],tfidf_vector[].toarray()[0].tolist()[i]) for i in range(\n",
    "#     len(tfidf_model.get_feature_names_out())))\n",
    "# nyt_tfidf"
   ]
  },
  {
   "cell_type": "code",
   "execution_count": 12,
   "id": "c4f004d3",
   "metadata": {},
   "outputs": [],
   "source": [
    "# tfidf_model.get_feature_names_out()"
   ]
  },
  {
   "cell_type": "code",
   "execution_count": 41,
   "id": "2316f58a",
   "metadata": {},
   "outputs": [],
   "source": [
    "def ir_tfidf(data, seeds):\n",
    "    '''\n",
    "    Return a DataFrame of the input with predicted labels using IR-TF-IDF\n",
    "    \n",
    "    :param: data: a DataFrame with a \"sentence\" attribute\n",
    "    :param: seeds: a dictionary of labels (keys) with a list of seed words (values)\n",
    "    '''\n",
    "    #reverse seeds dictionary\n",
    "    genres = {}\n",
    "    for genre,seed_words in seeds.items():\n",
    "        for seed_word in seed_words:\n",
    "            genres[seed_word] = genre\n",
    "            \n",
    "    data_ind = data.reset_index()\n",
    "            \n",
    "    model = fe.text.TfidfVectorizer(input=\"content\", stop_words = {'english'})\n",
    "    vector = model.fit_transform(data[\"sentence\"])\n",
    "    features = model.get_feature_names() #ADD _OUT FOR RECENT SKLEARN VERSION\n",
    "    \n",
    "    def predict(ind):\n",
    "        filtered = filter(lambda item: item[1] in genres, zip(vector[ind].toarray()[0].tolist(),features))\n",
    "        prediction = max(filtered, key=lambda item: item[0])\n",
    "        return genres[prediction[1]]\n",
    "    \n",
    "    df = data_ind.assign(prediction = data_ind[\"index\"].apply(predict))\n",
    "    return df"
   ]
  },
  {
   "cell_type": "code",
   "execution_count": 18,
   "id": "c423643d",
   "metadata": {},
   "outputs": [],
   "source": [
    "tfidf_nyt = ir_tfidf(data_nyt,seed_nyt)"
   ]
  },
  {
   "cell_type": "code",
   "execution_count": 19,
   "id": "3bab6ceb",
   "metadata": {},
   "outputs": [
    {
     "data": {
      "text/html": [
       "<div>\n",
       "<style scoped>\n",
       "    .dataframe tbody tr th:only-of-type {\n",
       "        vertical-align: middle;\n",
       "    }\n",
       "\n",
       "    .dataframe tbody tr th {\n",
       "        vertical-align: top;\n",
       "    }\n",
       "\n",
       "    .dataframe thead th {\n",
       "        text-align: right;\n",
       "    }\n",
       "</style>\n",
       "<table border=\"1\" class=\"dataframe\">\n",
       "  <thead>\n",
       "    <tr style=\"text-align: right;\">\n",
       "      <th></th>\n",
       "      <th>index</th>\n",
       "      <th>sentence</th>\n",
       "      <th>label</th>\n",
       "      <th>prediction</th>\n",
       "    </tr>\n",
       "  </thead>\n",
       "  <tbody>\n",
       "    <tr>\n",
       "      <th>0</th>\n",
       "      <td>0</td>\n",
       "      <td>nasa, in preparation for a spacewalk on saturd...</td>\n",
       "      <td>science</td>\n",
       "      <td>science</td>\n",
       "    </tr>\n",
       "    <tr>\n",
       "      <th>1</th>\n",
       "      <td>1</td>\n",
       "      <td>if professional pride and strong defiance can ...</td>\n",
       "      <td>sports</td>\n",
       "      <td>sports</td>\n",
       "    </tr>\n",
       "    <tr>\n",
       "      <th>2</th>\n",
       "      <td>2</td>\n",
       "      <td>admittedly, the language is reconstructed and ...</td>\n",
       "      <td>arts</td>\n",
       "      <td>arts</td>\n",
       "    </tr>\n",
       "    <tr>\n",
       "      <th>3</th>\n",
       "      <td>3</td>\n",
       "      <td>palermo, sicily — roberta vinci beat top-seede...</td>\n",
       "      <td>sports</td>\n",
       "      <td>arts</td>\n",
       "    </tr>\n",
       "    <tr>\n",
       "      <th>4</th>\n",
       "      <td>4</td>\n",
       "      <td>the argentine soccer club san lorenzo complete...</td>\n",
       "      <td>sports</td>\n",
       "      <td>sports</td>\n",
       "    </tr>\n",
       "    <tr>\n",
       "      <th>...</th>\n",
       "      <td>...</td>\n",
       "      <td>...</td>\n",
       "      <td>...</td>\n",
       "      <td>...</td>\n",
       "    </tr>\n",
       "    <tr>\n",
       "      <th>11522</th>\n",
       "      <td>11522</td>\n",
       "      <td>melbourne, australia — after the tears and the...</td>\n",
       "      <td>sports</td>\n",
       "      <td>arts</td>\n",
       "    </tr>\n",
       "    <tr>\n",
       "      <th>11523</th>\n",
       "      <td>11523</td>\n",
       "      <td>perth, australia — wimbledon semifinalist jerz...</td>\n",
       "      <td>sports</td>\n",
       "      <td>sports</td>\n",
       "    </tr>\n",
       "    <tr>\n",
       "      <th>11524</th>\n",
       "      <td>11524</td>\n",
       "      <td>while the nets are hoisting no. 5 to the barcl...</td>\n",
       "      <td>sports</td>\n",
       "      <td>sports</td>\n",
       "    </tr>\n",
       "    <tr>\n",
       "      <th>11525</th>\n",
       "      <td>11525</td>\n",
       "      <td>sydney — tennis australia chief executive stev...</td>\n",
       "      <td>sports</td>\n",
       "      <td>arts</td>\n",
       "    </tr>\n",
       "    <tr>\n",
       "      <th>11526</th>\n",
       "      <td>11526</td>\n",
       "      <td>stephen watts is the president of sap asia pac...</td>\n",
       "      <td>business</td>\n",
       "      <td>arts</td>\n",
       "    </tr>\n",
       "  </tbody>\n",
       "</table>\n",
       "<p>11527 rows × 4 columns</p>\n",
       "</div>"
      ],
      "text/plain": [
       "       index                                           sentence     label  \\\n",
       "0          0  nasa, in preparation for a spacewalk on saturd...   science   \n",
       "1          1  if professional pride and strong defiance can ...    sports   \n",
       "2          2  admittedly, the language is reconstructed and ...      arts   \n",
       "3          3  palermo, sicily — roberta vinci beat top-seede...    sports   \n",
       "4          4  the argentine soccer club san lorenzo complete...    sports   \n",
       "...      ...                                                ...       ...   \n",
       "11522  11522  melbourne, australia — after the tears and the...    sports   \n",
       "11523  11523  perth, australia — wimbledon semifinalist jerz...    sports   \n",
       "11524  11524  while the nets are hoisting no. 5 to the barcl...    sports   \n",
       "11525  11525  sydney — tennis australia chief executive stev...    sports   \n",
       "11526  11526  stephen watts is the president of sap asia pac...  business   \n",
       "\n",
       "      prediction  \n",
       "0        science  \n",
       "1         sports  \n",
       "2           arts  \n",
       "3           arts  \n",
       "4         sports  \n",
       "...          ...  \n",
       "11522       arts  \n",
       "11523     sports  \n",
       "11524     sports  \n",
       "11525       arts  \n",
       "11526       arts  \n",
       "\n",
       "[11527 rows x 4 columns]"
      ]
     },
     "execution_count": 19,
     "metadata": {},
     "output_type": "execute_result"
    }
   ],
   "source": [
    "tfidf_nyt"
   ]
  },
  {
   "cell_type": "code",
   "execution_count": 33,
   "id": "7e022c1f",
   "metadata": {},
   "outputs": [],
   "source": [
    "def score_F1(labels, predictions, averaging=\"micro\"):\n",
    "    '''\n",
    "    Returns the micro F1 score given a list of labels and a list of predictions\n",
    "    \n",
    "    :param: labels: a list of labels\n",
    "    :param: predictions: a list of predictions\n",
    "    :param: averaging: type of averaging method to use\n",
    "    '''\n",
    "    score = m.f1_score(labels, predictions, average=averaging)\n",
    "    return score"
   ]
  },
  {
   "cell_type": "code",
   "execution_count": 34,
   "id": "25d92648",
   "metadata": {},
   "outputs": [],
   "source": [
    "micro_nyt_tfidf = score_F1(tfidf_nyt[\"label\"], tfidf_nyt[\"prediction\"], \"micro\")\n",
    "macro_nyt_tfidf = score_F1(tfidf_nyt[\"label\"], tfidf_nyt[\"prediction\"], \"macro\")"
   ]
  },
  {
   "cell_type": "code",
   "execution_count": 35,
   "id": "25f9cd9e",
   "metadata": {},
   "outputs": [
    {
     "data": {
      "text/plain": [
       "0.6361585841936324"
      ]
     },
     "execution_count": 35,
     "metadata": {},
     "output_type": "execute_result"
    }
   ],
   "source": [
    "micro_nyt_tfidf"
   ]
  },
  {
   "cell_type": "code",
   "execution_count": 36,
   "id": "ad2c936a",
   "metadata": {},
   "outputs": [
    {
     "data": {
      "text/plain": [
       "0.49765851868243194"
      ]
     },
     "execution_count": 36,
     "metadata": {},
     "output_type": "execute_result"
    }
   ],
   "source": [
    "macro_nyt_tfidf"
   ]
  },
  {
   "cell_type": "code",
   "execution_count": 42,
   "id": "e571cc68",
   "metadata": {},
   "outputs": [],
   "source": [
    "tfidf_20News = ir_tfidf(data_20news,seed_20news)"
   ]
  },
  {
   "cell_type": "code",
   "execution_count": 43,
   "id": "8604829d",
   "metadata": {},
   "outputs": [
    {
     "data": {
      "text/html": [
       "<div>\n",
       "<style scoped>\n",
       "    .dataframe tbody tr th:only-of-type {\n",
       "        vertical-align: middle;\n",
       "    }\n",
       "\n",
       "    .dataframe tbody tr th {\n",
       "        vertical-align: top;\n",
       "    }\n",
       "\n",
       "    .dataframe thead th {\n",
       "        text-align: right;\n",
       "    }\n",
       "</style>\n",
       "<table border=\"1\" class=\"dataframe\">\n",
       "  <thead>\n",
       "    <tr style=\"text-align: right;\">\n",
       "      <th></th>\n",
       "      <th>index</th>\n",
       "      <th>sentence</th>\n",
       "      <th>label</th>\n",
       "      <th>prediction</th>\n",
       "    </tr>\n",
       "  </thead>\n",
       "  <tbody>\n",
       "    <tr>\n",
       "      <th>0</th>\n",
       "      <td>0</td>\n",
       "      <td>from:  (where's my thing)\\nsubject: what car i...</td>\n",
       "      <td>rec</td>\n",
       "      <td>rec</td>\n",
       "    </tr>\n",
       "    <tr>\n",
       "      <th>1</th>\n",
       "      <td>1</td>\n",
       "      <td>from:  (guy kuo)\\nsubject: si clock poll - fin...</td>\n",
       "      <td>comp</td>\n",
       "      <td>talk</td>\n",
       "    </tr>\n",
       "    <tr>\n",
       "      <th>2</th>\n",
       "      <td>2</td>\n",
       "      <td>from:  (thomas e willis)\\nsubject: pb question...</td>\n",
       "      <td>comp</td>\n",
       "      <td>comp</td>\n",
       "    </tr>\n",
       "    <tr>\n",
       "      <th>3</th>\n",
       "      <td>3</td>\n",
       "      <td>from: jgreen@amber (joe green)\\nsubject: re: w...</td>\n",
       "      <td>comp</td>\n",
       "      <td>comp</td>\n",
       "    </tr>\n",
       "    <tr>\n",
       "      <th>4</th>\n",
       "      <td>4</td>\n",
       "      <td>from:  (jonathan mcdowell)\\nsubject: re: shutt...</td>\n",
       "      <td>sci</td>\n",
       "      <td>talk</td>\n",
       "    </tr>\n",
       "    <tr>\n",
       "      <th>...</th>\n",
       "      <td>...</td>\n",
       "      <td>...</td>\n",
       "      <td>...</td>\n",
       "      <td>...</td>\n",
       "    </tr>\n",
       "    <tr>\n",
       "      <th>18254</th>\n",
       "      <td>18254</td>\n",
       "      <td>from:  (stupendous man)\\nsubject: re: temperat...</td>\n",
       "      <td>sci</td>\n",
       "      <td>sci</td>\n",
       "    </tr>\n",
       "    <tr>\n",
       "      <th>18255</th>\n",
       "      <td>18255</td>\n",
       "      <td>from:  (jim smyton)\\nsubject: re: monitors - s...</td>\n",
       "      <td>comp</td>\n",
       "      <td>talk</td>\n",
       "    </tr>\n",
       "    <tr>\n",
       "      <th>18256</th>\n",
       "      <td>18256</td>\n",
       "      <td>from: \\nsubject: re: game length (was re: brav...</td>\n",
       "      <td>rec</td>\n",
       "      <td>rec</td>\n",
       "    </tr>\n",
       "    <tr>\n",
       "      <th>18257</th>\n",
       "      <td>18257</td>\n",
       "      <td>from:  \\nsubject: intel chmos 8086/8088 design...</td>\n",
       "      <td>misc</td>\n",
       "      <td>misc</td>\n",
       "    </tr>\n",
       "    <tr>\n",
       "      <th>18258</th>\n",
       "      <td>18258</td>\n",
       "      <td>from: \\nsubject: re: homosexuality issues in c...</td>\n",
       "      <td>soc</td>\n",
       "      <td>soc</td>\n",
       "    </tr>\n",
       "  </tbody>\n",
       "</table>\n",
       "<p>18259 rows × 4 columns</p>\n",
       "</div>"
      ],
      "text/plain": [
       "       index                                           sentence label  \\\n",
       "0          0  from:  (where's my thing)\\nsubject: what car i...   rec   \n",
       "1          1  from:  (guy kuo)\\nsubject: si clock poll - fin...  comp   \n",
       "2          2  from:  (thomas e willis)\\nsubject: pb question...  comp   \n",
       "3          3  from: jgreen@amber (joe green)\\nsubject: re: w...  comp   \n",
       "4          4  from:  (jonathan mcdowell)\\nsubject: re: shutt...   sci   \n",
       "...      ...                                                ...   ...   \n",
       "18254  18254  from:  (stupendous man)\\nsubject: re: temperat...   sci   \n",
       "18255  18255  from:  (jim smyton)\\nsubject: re: monitors - s...  comp   \n",
       "18256  18256  from: \\nsubject: re: game length (was re: brav...   rec   \n",
       "18257  18257  from:  \\nsubject: intel chmos 8086/8088 design...  misc   \n",
       "18258  18258  from: \\nsubject: re: homosexuality issues in c...   soc   \n",
       "\n",
       "      prediction  \n",
       "0            rec  \n",
       "1           talk  \n",
       "2           comp  \n",
       "3           comp  \n",
       "4           talk  \n",
       "...          ...  \n",
       "18254        sci  \n",
       "18255       talk  \n",
       "18256        rec  \n",
       "18257       misc  \n",
       "18258        soc  \n",
       "\n",
       "[18259 rows x 4 columns]"
      ]
     },
     "execution_count": 43,
     "metadata": {},
     "output_type": "execute_result"
    }
   ],
   "source": [
    "tfidf_20News"
   ]
  },
  {
   "cell_type": "code",
   "execution_count": null,
   "id": "558f4b44",
   "metadata": {},
   "outputs": [],
   "source": []
  }
 ],
 "metadata": {
  "kernelspec": {
   "display_name": "Python 3 (ipykernel)",
   "language": "python",
   "name": "python3"
  },
  "language_info": {
   "codemirror_mode": {
    "name": "ipython",
    "version": 3
   },
   "file_extension": ".py",
   "mimetype": "text/x-python",
   "name": "python",
   "nbconvert_exporter": "python",
   "pygments_lexer": "ipython3",
   "version": "3.9.5"
  }
 },
 "nbformat": 4,
 "nbformat_minor": 5
}
