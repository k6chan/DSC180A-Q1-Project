{
 "cells": [
  {
   "cell_type": "code",
   "execution_count": null,
   "id": "625558e6",
   "metadata": {},
   "outputs": [],
   "source": [
    "import pandas as pd\n",
    "import sklearn.feature_extraction as fe\n",
    "\n",
    "#\n",
    "import pickle\n",
    "import json\n",
    "import os"
   ]
  },
  {
   "cell_type": "markdown",
   "id": "687636ac",
   "metadata": {},
   "source": [
    "Notebook-only"
   ]
  },
  {
   "cell_type": "code",
   "execution_count": 3,
   "id": "224f11f4",
   "metadata": {},
   "outputs": [
    {
     "data": {
      "text/plain": [
       "['.ipynb_checkpoints',\n",
       " '20News_coarse.pkl',\n",
       " '20News_seedwords.json',\n",
       " 'nyt_coarse.pkl',\n",
       " 'nyt_seedwords.json']"
      ]
     },
     "execution_count": 3,
     "metadata": {},
     "output_type": "execute_result"
    }
   ],
   "source": [
    "#\n",
    "original_directory = os.getcwd()\n",
    "os.chdir(\"../../data/raw\")\n",
    "os.listdir()"
   ]
  },
  {
   "cell_type": "code",
   "execution_count": 4,
   "id": "d353b119",
   "metadata": {},
   "outputs": [],
   "source": [
    "# read data\n",
    "\n",
    "#\n",
    "with open(\"nyt_coarse.pkl\", \"rb\") as fp:\n",
    "    data_nyt = pickle.load(fp)\n",
    "with open(\"20News_coarse.pkl\", \"rb\") as fp:\n",
    "    data_20news = pickle.load(fp)\n",
    "    \n",
    "with open(\"nyt_seedwords.json\") as fp:\n",
    "    seed_nyt = json.load(fp)\n",
    "with open(\"20News_seedwords.json\") as fp:\n",
    "    seed_20news = json.load(fp)"
   ]
  },
  {
   "cell_type": "code",
   "execution_count": 58,
   "id": "c03c3063",
   "metadata": {},
   "outputs": [
    {
     "data": {
      "text/html": [
       "<div>\n",
       "<style scoped>\n",
       "    .dataframe tbody tr th:only-of-type {\n",
       "        vertical-align: middle;\n",
       "    }\n",
       "\n",
       "    .dataframe tbody tr th {\n",
       "        vertical-align: top;\n",
       "    }\n",
       "\n",
       "    .dataframe thead th {\n",
       "        text-align: right;\n",
       "    }\n",
       "</style>\n",
       "<table border=\"1\" class=\"dataframe\">\n",
       "  <thead>\n",
       "    <tr style=\"text-align: right;\">\n",
       "      <th></th>\n",
       "      <th>sentence</th>\n",
       "      <th>label</th>\n",
       "    </tr>\n",
       "  </thead>\n",
       "  <tbody>\n",
       "    <tr>\n",
       "      <th>0</th>\n",
       "      <td>nasa, in preparation for a spacewalk on saturd...</td>\n",
       "      <td>science</td>\n",
       "    </tr>\n",
       "    <tr>\n",
       "      <th>1</th>\n",
       "      <td>if professional pride and strong defiance can ...</td>\n",
       "      <td>sports</td>\n",
       "    </tr>\n",
       "    <tr>\n",
       "      <th>2</th>\n",
       "      <td>admittedly, the language is reconstructed and ...</td>\n",
       "      <td>arts</td>\n",
       "    </tr>\n",
       "    <tr>\n",
       "      <th>3</th>\n",
       "      <td>palermo, sicily — roberta vinci beat top-seede...</td>\n",
       "      <td>sports</td>\n",
       "    </tr>\n",
       "    <tr>\n",
       "      <th>4</th>\n",
       "      <td>the argentine soccer club san lorenzo complete...</td>\n",
       "      <td>sports</td>\n",
       "    </tr>\n",
       "  </tbody>\n",
       "</table>\n",
       "</div>"
      ],
      "text/plain": [
       "                                            sentence    label\n",
       "0  nasa, in preparation for a spacewalk on saturd...  science\n",
       "1  if professional pride and strong defiance can ...   sports\n",
       "2  admittedly, the language is reconstructed and ...     arts\n",
       "3  palermo, sicily — roberta vinci beat top-seede...   sports\n",
       "4  the argentine soccer club san lorenzo complete...   sports"
      ]
     },
     "execution_count": 58,
     "metadata": {},
     "output_type": "execute_result"
    }
   ],
   "source": [
    "#\n",
    "data_nyt.head()\n",
    "# data_nyt.iloc[0][\"sentence\"]"
   ]
  },
  {
   "cell_type": "code",
   "execution_count": 6,
   "id": "7b7fb190",
   "metadata": {},
   "outputs": [
    {
     "data": {
      "text/html": [
       "<div>\n",
       "<style scoped>\n",
       "    .dataframe tbody tr th:only-of-type {\n",
       "        vertical-align: middle;\n",
       "    }\n",
       "\n",
       "    .dataframe tbody tr th {\n",
       "        vertical-align: top;\n",
       "    }\n",
       "\n",
       "    .dataframe thead th {\n",
       "        text-align: right;\n",
       "    }\n",
       "</style>\n",
       "<table border=\"1\" class=\"dataframe\">\n",
       "  <thead>\n",
       "    <tr style=\"text-align: right;\">\n",
       "      <th></th>\n",
       "      <th>sentence</th>\n",
       "      <th>label</th>\n",
       "    </tr>\n",
       "  </thead>\n",
       "  <tbody>\n",
       "    <tr>\n",
       "      <th>0</th>\n",
       "      <td>from:  (where's my thing)\\nsubject: what car i...</td>\n",
       "      <td>rec</td>\n",
       "    </tr>\n",
       "    <tr>\n",
       "      <th>1</th>\n",
       "      <td>from:  (guy kuo)\\nsubject: si clock poll - fin...</td>\n",
       "      <td>comp</td>\n",
       "    </tr>\n",
       "    <tr>\n",
       "      <th>2</th>\n",
       "      <td>from:  (thomas e willis)\\nsubject: pb question...</td>\n",
       "      <td>comp</td>\n",
       "    </tr>\n",
       "    <tr>\n",
       "      <th>3</th>\n",
       "      <td>from: jgreen@amber (joe green)\\nsubject: re: w...</td>\n",
       "      <td>comp</td>\n",
       "    </tr>\n",
       "    <tr>\n",
       "      <th>4</th>\n",
       "      <td>from:  (jonathan mcdowell)\\nsubject: re: shutt...</td>\n",
       "      <td>sci</td>\n",
       "    </tr>\n",
       "  </tbody>\n",
       "</table>\n",
       "</div>"
      ],
      "text/plain": [
       "                                            sentence label\n",
       "0  from:  (where's my thing)\\nsubject: what car i...   rec\n",
       "1  from:  (guy kuo)\\nsubject: si clock poll - fin...  comp\n",
       "2  from:  (thomas e willis)\\nsubject: pb question...  comp\n",
       "3  from: jgreen@amber (joe green)\\nsubject: re: w...  comp\n",
       "4  from:  (jonathan mcdowell)\\nsubject: re: shutt...   sci"
      ]
     },
     "execution_count": 6,
     "metadata": {},
     "output_type": "execute_result"
    }
   ],
   "source": [
    "#\n",
    "data_20news.head() #newline characters visible"
   ]
  },
  {
   "cell_type": "code",
   "execution_count": 7,
   "id": "a709a4b3",
   "metadata": {},
   "outputs": [
    {
     "data": {
      "text/plain": [
       "{'arts': ['music', 'orchestra', 'album', 'opera', 'ballet'],\n",
       " 'business': ['companies', 'euro', 'economy', 'batteries', 'sales'],\n",
       " 'science': ['space', 'researchers', 'scientists', 'research', 'science'],\n",
       " 'sports': ['yankees', 'cup', 'league', 'basketball', 'golf'],\n",
       " 'politics': ['republicans', 'senator', 'senate', 'democrats', 'election']}"
      ]
     },
     "execution_count": 7,
     "metadata": {},
     "output_type": "execute_result"
    }
   ],
   "source": [
    "#\n",
    "seed_nyt #same format as 20News seed words"
   ]
  },
  {
   "cell_type": "markdown",
   "id": "d3032a96",
   "metadata": {},
   "source": [
    "# TF-IDF"
   ]
  },
  {
   "cell_type": "markdown",
   "id": "795b539d",
   "metadata": {},
   "source": [
    "## NYT"
   ]
  },
  {
   "cell_type": "markdown",
   "id": "731e9663",
   "metadata": {},
   "source": [
    "IR-TF-IDF treats the seed word set for each class as a query. The relevance of a document to a label is computed by aggregated TF-IDF values of its respective seed words. The label with the highest relevance is assigned to each document."
   ]
  },
  {
   "cell_type": "code",
   "execution_count": 48,
   "id": "a175939b",
   "metadata": {},
   "outputs": [
    {
     "data": {
      "text/plain": [
       "{'music': 'arts',\n",
       " 'orchestra': 'arts',\n",
       " 'album': 'arts',\n",
       " 'opera': 'arts',\n",
       " 'ballet': 'arts',\n",
       " 'companies': 'business',\n",
       " 'euro': 'business',\n",
       " 'economy': 'business',\n",
       " 'batteries': 'business',\n",
       " 'sales': 'business',\n",
       " 'space': 'science',\n",
       " 'researchers': 'science',\n",
       " 'scientists': 'science',\n",
       " 'research': 'science',\n",
       " 'science': 'science',\n",
       " 'yankees': 'sports',\n",
       " 'cup': 'sports',\n",
       " 'league': 'sports',\n",
       " 'basketball': 'sports',\n",
       " 'golf': 'sports',\n",
       " 'republicans': 'politics',\n",
       " 'senator': 'politics',\n",
       " 'senate': 'politics',\n",
       " 'democrats': 'politics',\n",
       " 'election': 'politics'}"
      ]
     },
     "execution_count": 48,
     "metadata": {},
     "output_type": "execute_result"
    }
   ],
   "source": [
    "genres_nyt = {}\n",
    "for genre,seed_words in seed_nyt.items():\n",
    "    for seed_word in seed_words:\n",
    "        genres_nyt[seed_word] = genre\n",
    "        \n",
    "genres_nyt"
   ]
  },
  {
   "cell_type": "code",
   "execution_count": 11,
   "id": "48df88ea",
   "metadata": {},
   "outputs": [],
   "source": [
    "# ir-tf-idf replication\n",
    "\n",
    "# intialize vectorizer\n",
    "tfidf_model = fe.text.TfidfVectorizer(input=\"content\", stop_words = {'english'})\n",
    "tfidf_vector = tfidf_model.fit_transform(data_nyt[\"sentence\"])"
   ]
  },
  {
   "cell_type": "code",
   "execution_count": 67,
   "id": "8362a8d2",
   "metadata": {},
   "outputs": [],
   "source": [
    "#get vector with\n",
    "filtered = list(filter(lambda item: item[1] in genres_nyt, zip(tfidf_vector[0].toarray()[0].tolist(),tfidf_model.get_feature_names_out())))"
   ]
  },
  {
   "cell_type": "code",
   "execution_count": 68,
   "id": "9822133f",
   "metadata": {},
   "outputs": [
    {
     "data": {
      "text/plain": [
       "'space'"
      ]
     },
     "execution_count": 68,
     "metadata": {},
     "output_type": "execute_result"
    }
   ],
   "source": [
    "# list(filtered)\n",
    "label_test = max(filtered, key=lambda item: item[0])\n",
    "label_test[1]"
   ]
  },
  {
   "cell_type": "code",
   "execution_count": 33,
   "id": "393b18c4",
   "metadata": {},
   "outputs": [
    {
     "ename": "ValueError",
     "evalue": "dictionary update sequence element #1 has length 3; 2 is required",
     "output_type": "error",
     "traceback": [
      "\u001b[1;31m---------------------------------------------------------------------------\u001b[0m",
      "\u001b[1;31mValueError\u001b[0m                                Traceback (most recent call last)",
      "Cell \u001b[1;32mIn [33], line 1\u001b[0m\n\u001b[1;32m----> 1\u001b[0m nyt_tfidf \u001b[38;5;241m=\u001b[39m \u001b[38;5;28;43mdict\u001b[39;49m\u001b[43m(\u001b[49m\u001b[38;5;28;43mzip\u001b[39;49m\u001b[43m(\u001b[49m\u001b[43mtfidf_model\u001b[49m\u001b[38;5;241;43m.\u001b[39;49m\u001b[43mget_feature_names_out\u001b[49m\u001b[43m(\u001b[49m\u001b[43m)\u001b[49m\u001b[43m[\u001b[49m\u001b[43mi\u001b[49m\u001b[43m]\u001b[49m\u001b[43m,\u001b[49m\u001b[43mtfidf_vector\u001b[49m\u001b[43m[\u001b[49m\u001b[43mi\u001b[49m\u001b[43m]\u001b[49m\u001b[38;5;241;43m.\u001b[39;49m\u001b[43mtoarray\u001b[49m\u001b[43m(\u001b[49m\u001b[43m)\u001b[49m\u001b[43m[\u001b[49m\u001b[38;5;241;43m0\u001b[39;49m\u001b[43m]\u001b[49m\u001b[38;5;241;43m.\u001b[39;49m\u001b[43mtolist\u001b[49m\u001b[43m(\u001b[49m\u001b[43m)\u001b[49m\u001b[43m)\u001b[49m\u001b[43m \u001b[49m\u001b[38;5;28;43;01mfor\u001b[39;49;00m\u001b[43m \u001b[49m\u001b[43mi\u001b[49m\u001b[43m \u001b[49m\u001b[38;5;129;43;01min\u001b[39;49;00m\u001b[43m \u001b[49m\u001b[38;5;28;43mrange\u001b[39;49m\u001b[43m(\u001b[49m\n\u001b[0;32m      2\u001b[0m \u001b[43m    \u001b[49m\u001b[38;5;28;43mlen\u001b[39;49m\u001b[43m(\u001b[49m\u001b[43mtfidf_model\u001b[49m\u001b[38;5;241;43m.\u001b[39;49m\u001b[43mget_feature_names_out\u001b[49m\u001b[43m(\u001b[49m\u001b[43m)\u001b[49m\u001b[43m)\u001b[49m\u001b[43m)\u001b[49m\u001b[43m)\u001b[49m\n\u001b[0;32m      3\u001b[0m nyt_tfidf\n",
      "\u001b[1;31mValueError\u001b[0m: dictionary update sequence element #1 has length 3; 2 is required"
     ]
    }
   ],
   "source": [
    "# nyt_tfidf = dict(zip(tfidf_model.get_feature_names_out()[i],tfidf_vector[].toarray()[0].tolist()[i]) for i in range(\n",
    "#     len(tfidf_model.get_feature_names_out())))\n",
    "# nyt_tfidf"
   ]
  },
  {
   "cell_type": "code",
   "execution_count": 60,
   "id": "c4f004d3",
   "metadata": {},
   "outputs": [
    {
     "data": {
      "text/plain": [
       "array(['00', '000', '0000', ..., 'ötzl', 'özil', 'über'], dtype=object)"
      ]
     },
     "execution_count": 60,
     "metadata": {},
     "output_type": "execute_result"
    }
   ],
   "source": [
    "tfidf_model.get_feature_names_out()"
   ]
  },
  {
   "cell_type": "code",
   "execution_count": 83,
   "id": "2316f58a",
   "metadata": {},
   "outputs": [],
   "source": [
    "def ir_tfidf(data, seeds):\n",
    "    '''\n",
    "    Return a DataFrame of the input with predicted labels using IR-TF-IDF\n",
    "    \n",
    "    :param: data: a DataFrame with \"sentence\" and \"label\" attributes\n",
    "    :param: seeds: a dictionary of labels (keys) with a list of seed words (values)\n",
    "    '''\n",
    "    #reverse seeds dictionary\n",
    "    genres = {}\n",
    "    for genre,seed_words in seed_nyt.items():\n",
    "        for seed_word in seed_words:\n",
    "            genres[seed_word] = genre\n",
    "            \n",
    "    data_ind = data.reset_index()\n",
    "            \n",
    "    model = fe.text.TfidfVectorizer(input=\"content\", stop_words = {'english'})\n",
    "    vector = tfidf_model.fit_transform(data[\"sentence\"])\n",
    "    features = tfidf_model.get_feature_names_out()\n",
    "    \n",
    "    def predict(ind):\n",
    "        filtered = filter(lambda item: item[1] in genres, zip(vector[ind].toarray()[0].tolist(),features))\n",
    "        prediction = max(filtered, key=lambda item: item[0])\n",
    "        return prediction[1]\n",
    "    \n",
    "    df = data_ind.assign(prediction = data_ind[\"index\"].apply(predict))\n",
    "    return df"
   ]
  },
  {
   "cell_type": "code",
   "execution_count": null,
   "id": "c423643d",
   "metadata": {},
   "outputs": [],
   "source": [
    "tfidf_nyt = ir_tfidf(data_nyt,seed_nyt)"
   ]
  },
  {
   "cell_type": "code",
   "execution_count": null,
   "id": "3bab6ceb",
   "metadata": {},
   "outputs": [],
   "source": [
    "tfidf_nyt"
   ]
  },
  {
   "cell_type": "code",
   "execution_count": null,
   "id": "7e022c1f",
   "metadata": {},
   "outputs": [],
   "source": []
  }
 ],
 "metadata": {
  "kernelspec": {
   "display_name": "Python 3 (ipykernel)",
   "language": "python",
   "name": "python3"
  },
  "language_info": {
   "codemirror_mode": {
    "name": "ipython",
    "version": 3
   },
   "file_extension": ".py",
   "mimetype": "text/x-python",
   "name": "python",
   "nbconvert_exporter": "python",
   "pygments_lexer": "ipython3",
   "version": "3.10.5"
  }
 },
 "nbformat": 4,
 "nbformat_minor": 5
}
