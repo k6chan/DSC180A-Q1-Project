{
 "cells": [
  {
   "cell_type": "code",
   "execution_count": 1,
   "id": "b5c787bb",
   "metadata": {},
   "outputs": [],
   "source": [
    "import sys\n",
    "import json\n",
    "\n",
    "from src.data.load_dataset import load_data"
   ]
  },
  {
   "cell_type": "code",
   "execution_count": 2,
   "id": "4b2a9d6b",
   "metadata": {},
   "outputs": [],
   "source": [
    "def main(targets):\n",
    "    if 'data' in targets:\n",
    "        with open('config/config.json') as f:\n",
    "            params = json.load(f)\n",
    "        load_data(**params)\n",
    "\n",
    "if __name__ == '__main__':\n",
    "    targets = sys.argv[1:]\n",
    "    main(targets)"
   ]
  },
  {
   "cell_type": "code",
   "execution_count": null,
   "id": "9396589a",
   "metadata": {},
   "outputs": [],
   "source": []
  }
 ],
 "metadata": {
  "kernelspec": {
   "display_name": "Python 3 (ipykernel)",
   "language": "python",
   "name": "python3"
  },
  "language_info": {
   "codemirror_mode": {
    "name": "ipython",
    "version": 3
   },
   "file_extension": ".py",
   "mimetype": "text/x-python",
   "name": "python",
   "nbconvert_exporter": "python",
   "pygments_lexer": "ipython3",
   "version": "3.10.5"
  }
 },
 "nbformat": 4,
 "nbformat_minor": 5
}
