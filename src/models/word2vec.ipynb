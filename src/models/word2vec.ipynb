{
 "cells": [
  {
   "cell_type": "code",
   "execution_count": 1,
   "id": "aaee0ea3",
   "metadata": {},
   "outputs": [],
   "source": [
    "# pip install --user gensim"
   ]
  },
  {
   "cell_type": "code",
   "execution_count": 2,
   "id": "625558e6",
   "metadata": {},
   "outputs": [],
   "source": [
    "import pandas as pd\n",
    "import sklearn.feature_extraction as fe\n",
    "# import sklearn.metrics as m\n",
    "from gensim.models import Word2Vec\n",
    "from score_F1 import score_F1\n",
    "import string\n",
    "import numpy as np\n",
    "\n",
    "#\n",
    "import pickle\n",
    "import json\n",
    "import os\n",
    "\n"
   ]
  },
  {
   "cell_type": "markdown",
   "id": "687636ac",
   "metadata": {},
   "source": [
    "Notebook-only"
   ]
  },
  {
   "cell_type": "code",
   "execution_count": 3,
   "id": "224f11f4",
   "metadata": {},
   "outputs": [
    {
     "data": {
      "text/plain": [
       "['20News_coarse.pkl',\n",
       " 'nyt_seedwords.json',\n",
       " '20News_seedwords.json',\n",
       " 'nyt_coarse.pkl']"
      ]
     },
     "execution_count": 3,
     "metadata": {},
     "output_type": "execute_result"
    }
   ],
   "source": [
    "#\n",
    "original_directory = os.getcwd()\n",
    "os.chdir(\"../../data/raw\")\n",
    "os.listdir()"
   ]
  },
  {
   "cell_type": "code",
   "execution_count": 4,
   "id": "d353b119",
   "metadata": {},
   "outputs": [],
   "source": [
    "# read data\n",
    "\n",
    "#\n",
    "with open(\"nyt_coarse.pkl\", \"rb\") as fp:\n",
    "    data_nyt = pickle.load(fp)\n",
    "with open(\"20News_coarse.pkl\", \"rb\") as fp:\n",
    "    data_20news = pickle.load(fp)\n",
    "    \n",
    "with open(\"nyt_seedwords.json\") as fp:\n",
    "    seed_nyt = json.load(fp)\n",
    "with open(\"20News_seedwords.json\") as fp:\n",
    "    seed_20news = json.load(fp)"
   ]
  },
  {
   "cell_type": "code",
   "execution_count": 5,
   "id": "c03c3063",
   "metadata": {},
   "outputs": [
    {
     "data": {
      "text/html": [
       "<div>\n",
       "<style scoped>\n",
       "    .dataframe tbody tr th:only-of-type {\n",
       "        vertical-align: middle;\n",
       "    }\n",
       "\n",
       "    .dataframe tbody tr th {\n",
       "        vertical-align: top;\n",
       "    }\n",
       "\n",
       "    .dataframe thead th {\n",
       "        text-align: right;\n",
       "    }\n",
       "</style>\n",
       "<table border=\"1\" class=\"dataframe\">\n",
       "  <thead>\n",
       "    <tr style=\"text-align: right;\">\n",
       "      <th></th>\n",
       "      <th>sentence</th>\n",
       "      <th>label</th>\n",
       "    </tr>\n",
       "  </thead>\n",
       "  <tbody>\n",
       "    <tr>\n",
       "      <th>0</th>\n",
       "      <td>nasa, in preparation for a spacewalk on saturd...</td>\n",
       "      <td>science</td>\n",
       "    </tr>\n",
       "    <tr>\n",
       "      <th>1</th>\n",
       "      <td>if professional pride and strong defiance can ...</td>\n",
       "      <td>sports</td>\n",
       "    </tr>\n",
       "    <tr>\n",
       "      <th>2</th>\n",
       "      <td>admittedly, the language is reconstructed and ...</td>\n",
       "      <td>arts</td>\n",
       "    </tr>\n",
       "    <tr>\n",
       "      <th>3</th>\n",
       "      <td>palermo, sicily — roberta vinci beat top-seede...</td>\n",
       "      <td>sports</td>\n",
       "    </tr>\n",
       "    <tr>\n",
       "      <th>4</th>\n",
       "      <td>the argentine soccer club san lorenzo complete...</td>\n",
       "      <td>sports</td>\n",
       "    </tr>\n",
       "  </tbody>\n",
       "</table>\n",
       "</div>"
      ],
      "text/plain": [
       "                                            sentence    label\n",
       "0  nasa, in preparation for a spacewalk on saturd...  science\n",
       "1  if professional pride and strong defiance can ...   sports\n",
       "2  admittedly, the language is reconstructed and ...     arts\n",
       "3  palermo, sicily — roberta vinci beat top-seede...   sports\n",
       "4  the argentine soccer club san lorenzo complete...   sports"
      ]
     },
     "execution_count": 5,
     "metadata": {},
     "output_type": "execute_result"
    }
   ],
   "source": [
    "#\n",
    "data_nyt.head()\n",
    "# data_nyt.iloc[0][\"sentence\"]"
   ]
  },
  {
   "cell_type": "code",
   "execution_count": 6,
   "id": "7b7fb190",
   "metadata": {},
   "outputs": [
    {
     "data": {
      "text/html": [
       "<div>\n",
       "<style scoped>\n",
       "    .dataframe tbody tr th:only-of-type {\n",
       "        vertical-align: middle;\n",
       "    }\n",
       "\n",
       "    .dataframe tbody tr th {\n",
       "        vertical-align: top;\n",
       "    }\n",
       "\n",
       "    .dataframe thead th {\n",
       "        text-align: right;\n",
       "    }\n",
       "</style>\n",
       "<table border=\"1\" class=\"dataframe\">\n",
       "  <thead>\n",
       "    <tr style=\"text-align: right;\">\n",
       "      <th></th>\n",
       "      <th>sentence</th>\n",
       "      <th>label</th>\n",
       "    </tr>\n",
       "  </thead>\n",
       "  <tbody>\n",
       "    <tr>\n",
       "      <th>0</th>\n",
       "      <td>from:  (where's my thing)\\nsubject: what car i...</td>\n",
       "      <td>rec</td>\n",
       "    </tr>\n",
       "    <tr>\n",
       "      <th>1</th>\n",
       "      <td>from:  (guy kuo)\\nsubject: si clock poll - fin...</td>\n",
       "      <td>comp</td>\n",
       "    </tr>\n",
       "    <tr>\n",
       "      <th>2</th>\n",
       "      <td>from:  (thomas e willis)\\nsubject: pb question...</td>\n",
       "      <td>comp</td>\n",
       "    </tr>\n",
       "    <tr>\n",
       "      <th>3</th>\n",
       "      <td>from: jgreen@amber (joe green)\\nsubject: re: w...</td>\n",
       "      <td>comp</td>\n",
       "    </tr>\n",
       "    <tr>\n",
       "      <th>4</th>\n",
       "      <td>from:  (jonathan mcdowell)\\nsubject: re: shutt...</td>\n",
       "      <td>sci</td>\n",
       "    </tr>\n",
       "  </tbody>\n",
       "</table>\n",
       "</div>"
      ],
      "text/plain": [
       "                                            sentence label\n",
       "0  from:  (where's my thing)\\nsubject: what car i...   rec\n",
       "1  from:  (guy kuo)\\nsubject: si clock poll - fin...  comp\n",
       "2  from:  (thomas e willis)\\nsubject: pb question...  comp\n",
       "3  from: jgreen@amber (joe green)\\nsubject: re: w...  comp\n",
       "4  from:  (jonathan mcdowell)\\nsubject: re: shutt...   sci"
      ]
     },
     "execution_count": 6,
     "metadata": {},
     "output_type": "execute_result"
    }
   ],
   "source": [
    "#\n",
    "data_20news.head() #newline characters visible"
   ]
  },
  {
   "cell_type": "code",
   "execution_count": 7,
   "id": "a709a4b3",
   "metadata": {},
   "outputs": [
    {
     "data": {
      "text/plain": [
       "{'arts': ['music', 'orchestra', 'album', 'opera', 'ballet'],\n",
       " 'business': ['companies', 'euro', 'economy', 'batteries', 'sales'],\n",
       " 'science': ['space', 'researchers', 'scientists', 'research', 'science'],\n",
       " 'sports': ['yankees', 'cup', 'league', 'basketball', 'golf'],\n",
       " 'politics': ['republicans', 'senator', 'senate', 'democrats', 'election']}"
      ]
     },
     "execution_count": 7,
     "metadata": {},
     "output_type": "execute_result"
    }
   ],
   "source": [
    "#\n",
    "seed_nyt #same format as 20News seed words"
   ]
  },
  {
   "cell_type": "code",
   "execution_count": 8,
   "id": "5794db53",
   "metadata": {},
   "outputs": [
    {
     "data": {
      "text/plain": [
       "{'alt': ['atheism', 'atheists', 'religion', 'objective'],\n",
       " 'comp': ['graphics', 'windows', 'scsi', 'mac'],\n",
       " 'misc': ['sale', 'offer', 'shipping', 'forsale'],\n",
       " 'rec': ['car', 'bike', 'game', 'team'],\n",
       " 'sci': ['encryption', 'circuit', 'candida', 'space'],\n",
       " 'talk': ['turkish', 'gun', 'jews', 'armenian'],\n",
       " 'soc': ['church', 'jesus', 'christ', 'christians']}"
      ]
     },
     "execution_count": 8,
     "metadata": {},
     "output_type": "execute_result"
    }
   ],
   "source": [
    "seed_20news"
   ]
  },
  {
   "cell_type": "markdown",
   "id": "7f7a31e1",
   "metadata": {},
   "source": [
    "# Word2Vec"
   ]
  },
  {
   "cell_type": "code",
   "execution_count": 9,
   "id": "8da850bf",
   "metadata": {},
   "outputs": [],
   "source": [
    "punctuation = set(string.punctuation)\n",
    "stopwords = set(fe.text.ENGLISH_STOP_WORDS)"
   ]
  },
  {
   "cell_type": "code",
   "execution_count": 43,
   "id": "84518e05",
   "metadata": {},
   "outputs": [],
   "source": [
    "#tokenize\n",
    "def tokenize(sentence):\n",
    "    '''\n",
    "    Returns a tokenized version of the given sentence, excluding punctuation and stopwords\n",
    "    '''\n",
    "    tokens = [w for w in (''.join([c for c in sentence.lower() if c not in punctuation]).split()) if w not in stopwords]\n",
    "    return tokens"
   ]
  },
  {
   "cell_type": "code",
   "execution_count": 49,
   "id": "eedf588d",
   "metadata": {},
   "outputs": [],
   "source": [
    "def word2vec(data, seeds):\n",
    "    '''\n",
    "    Return a DataFrame of the input with predicted labels using Word2Vec\n",
    "    \n",
    "    :param: data: a DataFrame with a \"sentence\" attribute\n",
    "    :param: seeds: a dictionary of labels (keys) with a list of seed words (values)\n",
    "    '''\n",
    "    #reverse seeds dictionary\n",
    "    genres = {}\n",
    "    for genre,seed_words in seeds.items():\n",
    "        for seed_word in seed_words:\n",
    "            genres[seed_word] = genre\n",
    "            \n",
    "    data_ind = data.reset_index()\n",
    "    \n",
    "    data_tokens = []\n",
    "    for row in data_ind.iterrows():\n",
    "        data_tokens.append(tokenize(row[1][\"sentence\"]))\n",
    "\n",
    "    model = Word2Vec(data_tokens, vector_size=100, sg=1)\n",
    "    \n",
    "#     label_reps = {}\n",
    "#     for label in seeds:\n",
    "#         label_reps[label] = model.wv.get_mean_vector(seeds[label])\n",
    "    \n",
    "    def predict_w2v(sentence):\n",
    "        similarities = []\n",
    "        for label in seeds:\n",
    "            words_1 = seeds[label]\n",
    "            words_2 = tokenize(sentence)\n",
    "            cosine_sim = model.wv.n_similarity(words_1,words_2)\n",
    "            similarities.append((cosine_sim,label))\n",
    "        return max(similarities, key=lambda item: item[0])[1]\n",
    "            \n",
    "    df = data_ind.assign(prediction=data_ind[\"sentence\"].apply(predict_w2v))\n",
    "    \n",
    "    return df"
   ]
  },
  {
   "cell_type": "code",
   "execution_count": 50,
   "id": "dce9be13",
   "metadata": {},
   "outputs": [
    {
     "data": {
      "text/html": [
       "<div>\n",
       "<style scoped>\n",
       "    .dataframe tbody tr th:only-of-type {\n",
       "        vertical-align: middle;\n",
       "    }\n",
       "\n",
       "    .dataframe tbody tr th {\n",
       "        vertical-align: top;\n",
       "    }\n",
       "\n",
       "    .dataframe thead th {\n",
       "        text-align: right;\n",
       "    }\n",
       "</style>\n",
       "<table border=\"1\" class=\"dataframe\">\n",
       "  <thead>\n",
       "    <tr style=\"text-align: right;\">\n",
       "      <th></th>\n",
       "      <th>index</th>\n",
       "      <th>sentence</th>\n",
       "      <th>label</th>\n",
       "      <th>prediction</th>\n",
       "    </tr>\n",
       "  </thead>\n",
       "  <tbody>\n",
       "    <tr>\n",
       "      <th>0</th>\n",
       "      <td>0</td>\n",
       "      <td>nasa, in preparation for a spacewalk on saturd...</td>\n",
       "      <td>science</td>\n",
       "      <td>science</td>\n",
       "    </tr>\n",
       "    <tr>\n",
       "      <th>1</th>\n",
       "      <td>1</td>\n",
       "      <td>if professional pride and strong defiance can ...</td>\n",
       "      <td>sports</td>\n",
       "      <td>sports</td>\n",
       "    </tr>\n",
       "    <tr>\n",
       "      <th>2</th>\n",
       "      <td>2</td>\n",
       "      <td>admittedly, the language is reconstructed and ...</td>\n",
       "      <td>arts</td>\n",
       "      <td>sports</td>\n",
       "    </tr>\n",
       "    <tr>\n",
       "      <th>3</th>\n",
       "      <td>3</td>\n",
       "      <td>palermo, sicily — roberta vinci beat top-seede...</td>\n",
       "      <td>sports</td>\n",
       "      <td>sports</td>\n",
       "    </tr>\n",
       "    <tr>\n",
       "      <th>4</th>\n",
       "      <td>4</td>\n",
       "      <td>the argentine soccer club san lorenzo complete...</td>\n",
       "      <td>sports</td>\n",
       "      <td>sports</td>\n",
       "    </tr>\n",
       "    <tr>\n",
       "      <th>...</th>\n",
       "      <td>...</td>\n",
       "      <td>...</td>\n",
       "      <td>...</td>\n",
       "      <td>...</td>\n",
       "    </tr>\n",
       "    <tr>\n",
       "      <th>11522</th>\n",
       "      <td>11522</td>\n",
       "      <td>melbourne, australia — after the tears and the...</td>\n",
       "      <td>sports</td>\n",
       "      <td>sports</td>\n",
       "    </tr>\n",
       "    <tr>\n",
       "      <th>11523</th>\n",
       "      <td>11523</td>\n",
       "      <td>perth, australia — wimbledon semifinalist jerz...</td>\n",
       "      <td>sports</td>\n",
       "      <td>sports</td>\n",
       "    </tr>\n",
       "    <tr>\n",
       "      <th>11524</th>\n",
       "      <td>11524</td>\n",
       "      <td>while the nets are hoisting no. 5 to the barcl...</td>\n",
       "      <td>sports</td>\n",
       "      <td>sports</td>\n",
       "    </tr>\n",
       "    <tr>\n",
       "      <th>11525</th>\n",
       "      <td>11525</td>\n",
       "      <td>sydney — tennis australia chief executive stev...</td>\n",
       "      <td>sports</td>\n",
       "      <td>sports</td>\n",
       "    </tr>\n",
       "    <tr>\n",
       "      <th>11526</th>\n",
       "      <td>11526</td>\n",
       "      <td>stephen watts is the president of sap asia pac...</td>\n",
       "      <td>business</td>\n",
       "      <td>sports</td>\n",
       "    </tr>\n",
       "  </tbody>\n",
       "</table>\n",
       "<p>11527 rows × 4 columns</p>\n",
       "</div>"
      ],
      "text/plain": [
       "       index                                           sentence     label  \\\n",
       "0          0  nasa, in preparation for a spacewalk on saturd...   science   \n",
       "1          1  if professional pride and strong defiance can ...    sports   \n",
       "2          2  admittedly, the language is reconstructed and ...      arts   \n",
       "3          3  palermo, sicily — roberta vinci beat top-seede...    sports   \n",
       "4          4  the argentine soccer club san lorenzo complete...    sports   \n",
       "...      ...                                                ...       ...   \n",
       "11522  11522  melbourne, australia — after the tears and the...    sports   \n",
       "11523  11523  perth, australia — wimbledon semifinalist jerz...    sports   \n",
       "11524  11524  while the nets are hoisting no. 5 to the barcl...    sports   \n",
       "11525  11525  sydney — tennis australia chief executive stev...    sports   \n",
       "11526  11526  stephen watts is the president of sap asia pac...  business   \n",
       "\n",
       "      prediction  \n",
       "0        science  \n",
       "1         sports  \n",
       "2         sports  \n",
       "3         sports  \n",
       "4         sports  \n",
       "...          ...  \n",
       "11522     sports  \n",
       "11523     sports  \n",
       "11524     sports  \n",
       "11525     sports  \n",
       "11526     sports  \n",
       "\n",
       "[11527 rows x 4 columns]"
      ]
     },
     "execution_count": 50,
     "metadata": {},
     "output_type": "execute_result"
    }
   ],
   "source": [
    "nyt_w2v = word2vec(data_nyt, seed_nyt)\n",
    "nyt_w2v"
   ]
  },
  {
   "cell_type": "code",
   "execution_count": 59,
   "id": "84755ef2",
   "metadata": {},
   "outputs": [
    {
     "data": {
      "text/plain": [
       "sports      8448\n",
       "arts        1040\n",
       "politics     977\n",
       "business     973\n",
       "science       89\n",
       "Name: label, dtype: int64"
      ]
     },
     "execution_count": 59,
     "metadata": {},
     "output_type": "execute_result"
    }
   ],
   "source": [
    "nyt_w2v[\"label\"].value_counts()"
   ]
  },
  {
   "cell_type": "code",
   "execution_count": 52,
   "id": "966a4a37",
   "metadata": {},
   "outputs": [
    {
     "data": {
      "text/plain": [
       "sports      8846\n",
       "business    1103\n",
       "science      801\n",
       "politics     441\n",
       "arts         336\n",
       "Name: prediction, dtype: int64"
      ]
     },
     "execution_count": 52,
     "metadata": {},
     "output_type": "execute_result"
    }
   ],
   "source": [
    "nyt_w2v[\"prediction\"].value_counts()"
   ]
  },
  {
   "cell_type": "code",
   "execution_count": 53,
   "id": "cadbd0e5",
   "metadata": {},
   "outputs": [
    {
     "name": "stdout",
     "output_type": "stream",
     "text": [
      "0.8770712240825888\n",
      "0.6159879225353991\n"
     ]
    }
   ],
   "source": [
    "micro_nyt_w2v = score_F1(nyt_w2v[\"label\"], nyt_w2v[\"prediction\"], \"micro\")\n",
    "macro_nyt_w2v = score_F1(nyt_w2v[\"label\"], nyt_w2v[\"prediction\"], \"macro\")\n",
    "\n",
    "print(micro_nyt_w2v)\n",
    "print(macro_nyt_w2v)"
   ]
  },
  {
   "cell_type": "code",
   "execution_count": 55,
   "id": "130d2f84",
   "metadata": {},
   "outputs": [
    {
     "data": {
      "text/html": [
       "<div>\n",
       "<style scoped>\n",
       "    .dataframe tbody tr th:only-of-type {\n",
       "        vertical-align: middle;\n",
       "    }\n",
       "\n",
       "    .dataframe tbody tr th {\n",
       "        vertical-align: top;\n",
       "    }\n",
       "\n",
       "    .dataframe thead th {\n",
       "        text-align: right;\n",
       "    }\n",
       "</style>\n",
       "<table border=\"1\" class=\"dataframe\">\n",
       "  <thead>\n",
       "    <tr style=\"text-align: right;\">\n",
       "      <th></th>\n",
       "      <th>index</th>\n",
       "      <th>sentence</th>\n",
       "      <th>label</th>\n",
       "      <th>prediction</th>\n",
       "    </tr>\n",
       "  </thead>\n",
       "  <tbody>\n",
       "    <tr>\n",
       "      <th>0</th>\n",
       "      <td>0</td>\n",
       "      <td>from:  (where's my thing)\\nsubject: what car i...</td>\n",
       "      <td>rec</td>\n",
       "      <td>rec</td>\n",
       "    </tr>\n",
       "    <tr>\n",
       "      <th>1</th>\n",
       "      <td>1</td>\n",
       "      <td>from:  (guy kuo)\\nsubject: si clock poll - fin...</td>\n",
       "      <td>comp</td>\n",
       "      <td>comp</td>\n",
       "    </tr>\n",
       "    <tr>\n",
       "      <th>2</th>\n",
       "      <td>2</td>\n",
       "      <td>from:  (thomas e willis)\\nsubject: pb question...</td>\n",
       "      <td>comp</td>\n",
       "      <td>comp</td>\n",
       "    </tr>\n",
       "    <tr>\n",
       "      <th>3</th>\n",
       "      <td>3</td>\n",
       "      <td>from: jgreen@amber (joe green)\\nsubject: re: w...</td>\n",
       "      <td>comp</td>\n",
       "      <td>comp</td>\n",
       "    </tr>\n",
       "    <tr>\n",
       "      <th>4</th>\n",
       "      <td>4</td>\n",
       "      <td>from:  (jonathan mcdowell)\\nsubject: re: shutt...</td>\n",
       "      <td>sci</td>\n",
       "      <td>sci</td>\n",
       "    </tr>\n",
       "    <tr>\n",
       "      <th>...</th>\n",
       "      <td>...</td>\n",
       "      <td>...</td>\n",
       "      <td>...</td>\n",
       "      <td>...</td>\n",
       "    </tr>\n",
       "    <tr>\n",
       "      <th>18254</th>\n",
       "      <td>18254</td>\n",
       "      <td>from:  (stupendous man)\\nsubject: re: temperat...</td>\n",
       "      <td>sci</td>\n",
       "      <td>sci</td>\n",
       "    </tr>\n",
       "    <tr>\n",
       "      <th>18255</th>\n",
       "      <td>18255</td>\n",
       "      <td>from:  (jim smyton)\\nsubject: re: monitors - s...</td>\n",
       "      <td>comp</td>\n",
       "      <td>comp</td>\n",
       "    </tr>\n",
       "    <tr>\n",
       "      <th>18256</th>\n",
       "      <td>18256</td>\n",
       "      <td>from: \\nsubject: re: game length (was re: brav...</td>\n",
       "      <td>rec</td>\n",
       "      <td>rec</td>\n",
       "    </tr>\n",
       "    <tr>\n",
       "      <th>18257</th>\n",
       "      <td>18257</td>\n",
       "      <td>from:  \\nsubject: intel chmos 8086/8088 design...</td>\n",
       "      <td>misc</td>\n",
       "      <td>comp</td>\n",
       "    </tr>\n",
       "    <tr>\n",
       "      <th>18258</th>\n",
       "      <td>18258</td>\n",
       "      <td>from: \\nsubject: re: homosexuality issues in c...</td>\n",
       "      <td>soc</td>\n",
       "      <td>soc</td>\n",
       "    </tr>\n",
       "  </tbody>\n",
       "</table>\n",
       "<p>18259 rows × 4 columns</p>\n",
       "</div>"
      ],
      "text/plain": [
       "       index                                           sentence label  \\\n",
       "0          0  from:  (where's my thing)\\nsubject: what car i...   rec   \n",
       "1          1  from:  (guy kuo)\\nsubject: si clock poll - fin...  comp   \n",
       "2          2  from:  (thomas e willis)\\nsubject: pb question...  comp   \n",
       "3          3  from: jgreen@amber (joe green)\\nsubject: re: w...  comp   \n",
       "4          4  from:  (jonathan mcdowell)\\nsubject: re: shutt...   sci   \n",
       "...      ...                                                ...   ...   \n",
       "18254  18254  from:  (stupendous man)\\nsubject: re: temperat...   sci   \n",
       "18255  18255  from:  (jim smyton)\\nsubject: re: monitors - s...  comp   \n",
       "18256  18256  from: \\nsubject: re: game length (was re: brav...   rec   \n",
       "18257  18257  from:  \\nsubject: intel chmos 8086/8088 design...  misc   \n",
       "18258  18258  from: \\nsubject: re: homosexuality issues in c...   soc   \n",
       "\n",
       "      prediction  \n",
       "0            rec  \n",
       "1           comp  \n",
       "2           comp  \n",
       "3           comp  \n",
       "4            sci  \n",
       "...          ...  \n",
       "18254        sci  \n",
       "18255       comp  \n",
       "18256        rec  \n",
       "18257       comp  \n",
       "18258        soc  \n",
       "\n",
       "[18259 rows x 4 columns]"
      ]
     },
     "execution_count": 55,
     "metadata": {},
     "output_type": "execute_result"
    }
   ],
   "source": [
    "w2v_20news = word2vec(data_20news, seed_20news)\n",
    "w2v_20news"
   ]
  },
  {
   "cell_type": "code",
   "execution_count": 56,
   "id": "a7b53676",
   "metadata": {},
   "outputs": [
    {
     "name": "stdout",
     "output_type": "stream",
     "text": [
      "0.7298866312503423\n",
      "0.6620878770632501\n"
     ]
    }
   ],
   "source": [
    "micro_w2v_20news = score_F1(w2v_20news[\"label\"], w2v_20news[\"prediction\"], \"micro\")\n",
    "macro_w2v_20news = score_F1(w2v_20news[\"label\"], w2v_20news[\"prediction\"], \"macro\")\n",
    "\n",
    "print(micro_w2v_20news)\n",
    "print(macro_w2v_20news)"
   ]
  },
  {
   "cell_type": "code",
   "execution_count": 58,
   "id": "6e6307df",
   "metadata": {},
   "outputs": [
    {
     "data": {
      "text/plain": [
       "comp    4685\n",
       "sci     3879\n",
       "rec     3822\n",
       "talk    3180\n",
       "soc      988\n",
       "misc     912\n",
       "alt      793\n",
       "Name: label, dtype: int64"
      ]
     },
     "execution_count": 58,
     "metadata": {},
     "output_type": "execute_result"
    }
   ],
   "source": [
    "w2v_20news[\"label\"].value_counts()"
   ]
  },
  {
   "cell_type": "code",
   "execution_count": 57,
   "id": "11ecab79",
   "metadata": {},
   "outputs": [
    {
     "data": {
      "text/plain": [
       "comp    5077\n",
       "sci     4675\n",
       "rec     3720\n",
       "alt     1496\n",
       "misc    1358\n",
       "soc     1064\n",
       "talk     869\n",
       "Name: prediction, dtype: int64"
      ]
     },
     "execution_count": 57,
     "metadata": {},
     "output_type": "execute_result"
    }
   ],
   "source": [
    "w2v_20news[\"prediction\"].value_counts()"
   ]
  },
  {
   "cell_type": "code",
   "execution_count": 41,
   "id": "5accda90",
   "metadata": {},
   "outputs": [
    {
     "data": {
      "text/plain": [
       "array([-7.2530347e-05,  1.1783183e-03,  5.5800262e-04,  1.1176602e-03,\n",
       "        2.2202190e-04, -7.4194855e-04,  1.0387886e-03,  2.0278418e-03,\n",
       "       -1.7192799e-03, -1.4027825e-03, -4.1540153e-04, -1.5607105e-03,\n",
       "        9.1590337e-04,  1.1275281e-03, -3.6987509e-05, -4.2349613e-05,\n",
       "        2.6928489e-03, -2.5077426e-04, -8.5147988e-04, -3.5243083e-03,\n",
       "        6.7180360e-04,  5.6308671e-04,  9.1066264e-04, -1.3493166e-04,\n",
       "       -1.0023265e-03,  8.3123543e-04, -2.3133191e-03,  6.9141883e-04,\n",
       "        3.7179564e-04,  7.0559140e-04,  1.8687396e-03, -7.5001974e-04,\n",
       "       -1.4755287e-04, -1.7263208e-03, -6.0683081e-04,  7.8640931e-04,\n",
       "        1.1886301e-03,  1.7178810e-04, -8.1940484e-04, -3.7080620e-04,\n",
       "        8.6160708e-04, -1.0220795e-03, -2.5977448e-04,  8.8042446e-04,\n",
       "        1.0401817e-04, -1.3923651e-03, -1.7017570e-03, -1.5260235e-03,\n",
       "        9.6882856e-04,  4.6265117e-04,  6.0972292e-04, -1.2516815e-03,\n",
       "       -8.0780283e-04,  4.3064945e-05, -6.6794385e-04,  4.8287612e-04,\n",
       "        1.1836593e-03, -1.4126954e-04,  9.1662492e-05,  4.2165609e-04,\n",
       "       -5.3432677e-04, -1.2961554e-03,  2.1656195e-03,  1.3789120e-03,\n",
       "       -1.0504167e-03,  2.1926551e-03, -2.0925036e-04,  5.1937287e-04,\n",
       "       -1.5113086e-03,  6.4951292e-04,  7.6704957e-05,  1.0791136e-03,\n",
       "        8.0582523e-04,  7.3540912e-05,  8.5659337e-04, -3.5410534e-04,\n",
       "        9.3567825e-04,  1.4355538e-03, -4.5040171e-04, -5.1996205e-05,\n",
       "       -2.3252338e-03, -1.5397083e-04,  2.3252911e-04,  1.4705145e-03,\n",
       "       -5.3532951e-04, -3.5815884e-04,  9.2912279e-04,  6.5272790e-04,\n",
       "        6.8064150e-04,  5.2659365e-04,  1.6904810e-03,  4.0744830e-04,\n",
       "        2.5750117e-04, -2.3437102e-04,  1.3160405e-03, -5.7518645e-04,\n",
       "        1.1642652e-03, -1.3215815e-04,  2.9208715e-04,  1.5589601e-03],\n",
       "      dtype=float32)"
      ]
     },
     "execution_count": 41,
     "metadata": {},
     "output_type": "execute_result"
    }
   ],
   "source": [
    "# np.mean(Word2Vec(data_nyt.iloc[0][\"sentence\"],vector_size=100, sg=1).wv.vectors, axis=0)"
   ]
  },
  {
   "cell_type": "code",
   "execution_count": 42,
   "id": "b9731422",
   "metadata": {},
   "outputs": [
    {
     "ename": "AttributeError",
     "evalue": "'Word2Vec' object has no attribute 'transform'",
     "output_type": "error",
     "traceback": [
      "\u001b[0;31m---------------------------------------------------------------------------\u001b[0m",
      "\u001b[0;31mAttributeError\u001b[0m                            Traceback (most recent call last)",
      "\u001b[0;32m/tmp/ipykernel_288/694502600.py\u001b[0m in \u001b[0;36m<module>\u001b[0;34m\u001b[0m\n\u001b[0;32m----> 1\u001b[0;31m \u001b[0mWord2Vec\u001b[0m\u001b[0;34m(\u001b[0m\u001b[0mdata_nyt\u001b[0m\u001b[0;34m.\u001b[0m\u001b[0miloc\u001b[0m\u001b[0;34m[\u001b[0m\u001b[0;36m0\u001b[0m\u001b[0;34m]\u001b[0m\u001b[0;34m[\u001b[0m\u001b[0;34m\"sentence\"\u001b[0m\u001b[0;34m]\u001b[0m\u001b[0;34m,\u001b[0m\u001b[0mvector_size\u001b[0m\u001b[0;34m=\u001b[0m\u001b[0;36m100\u001b[0m\u001b[0;34m,\u001b[0m \u001b[0msg\u001b[0m\u001b[0;34m=\u001b[0m\u001b[0;36m1\u001b[0m\u001b[0;34m)\u001b[0m\u001b[0;34m.\u001b[0m\u001b[0mtransform\u001b[0m\u001b[0;34m(\u001b[0m\u001b[0mdata_nyt\u001b[0m\u001b[0;34m.\u001b[0m\u001b[0miloc\u001b[0m\u001b[0;34m[\u001b[0m\u001b[0;36m1\u001b[0m\u001b[0;34m]\u001b[0m\u001b[0;34m[\u001b[0m\u001b[0;34m\"sentence\"\u001b[0m\u001b[0;34m]\u001b[0m\u001b[0;34m)\u001b[0m\u001b[0;34m\u001b[0m\u001b[0;34m\u001b[0m\u001b[0m\n\u001b[0m",
      "\u001b[0;31mAttributeError\u001b[0m: 'Word2Vec' object has no attribute 'transform'"
     ]
    }
   ],
   "source": [
    "# Word2Vec(data_nyt.iloc[0][\"sentence\"],vector_size=100, sg=1).transform(data_nyt.iloc[1][\"sentence\"])"
   ]
  },
  {
   "cell_type": "code",
   "execution_count": 13,
   "id": "8b64ac42",
   "metadata": {},
   "outputs": [
    {
     "data": {
      "text/html": [
       "<div>\n",
       "<style scoped>\n",
       "    .dataframe tbody tr th:only-of-type {\n",
       "        vertical-align: middle;\n",
       "    }\n",
       "\n",
       "    .dataframe tbody tr th {\n",
       "        vertical-align: top;\n",
       "    }\n",
       "\n",
       "    .dataframe thead th {\n",
       "        text-align: right;\n",
       "    }\n",
       "</style>\n",
       "<table border=\"1\" class=\"dataframe\">\n",
       "  <thead>\n",
       "    <tr style=\"text-align: right;\">\n",
       "      <th></th>\n",
       "      <th>sentence</th>\n",
       "      <th>label</th>\n",
       "    </tr>\n",
       "  </thead>\n",
       "  <tbody>\n",
       "    <tr>\n",
       "      <th>0</th>\n",
       "      <td>nasa, in preparation for a spacewalk on saturd...</td>\n",
       "      <td>science</td>\n",
       "    </tr>\n",
       "    <tr>\n",
       "      <th>1</th>\n",
       "      <td>if professional pride and strong defiance can ...</td>\n",
       "      <td>sports</td>\n",
       "    </tr>\n",
       "    <tr>\n",
       "      <th>2</th>\n",
       "      <td>admittedly, the language is reconstructed and ...</td>\n",
       "      <td>arts</td>\n",
       "    </tr>\n",
       "    <tr>\n",
       "      <th>3</th>\n",
       "      <td>palermo, sicily — roberta vinci beat top-seede...</td>\n",
       "      <td>sports</td>\n",
       "    </tr>\n",
       "    <tr>\n",
       "      <th>4</th>\n",
       "      <td>the argentine soccer club san lorenzo complete...</td>\n",
       "      <td>sports</td>\n",
       "    </tr>\n",
       "    <tr>\n",
       "      <th>...</th>\n",
       "      <td>...</td>\n",
       "      <td>...</td>\n",
       "    </tr>\n",
       "    <tr>\n",
       "      <th>11522</th>\n",
       "      <td>melbourne, australia — after the tears and the...</td>\n",
       "      <td>sports</td>\n",
       "    </tr>\n",
       "    <tr>\n",
       "      <th>11523</th>\n",
       "      <td>perth, australia — wimbledon semifinalist jerz...</td>\n",
       "      <td>sports</td>\n",
       "    </tr>\n",
       "    <tr>\n",
       "      <th>11524</th>\n",
       "      <td>while the nets are hoisting no. 5 to the barcl...</td>\n",
       "      <td>sports</td>\n",
       "    </tr>\n",
       "    <tr>\n",
       "      <th>11525</th>\n",
       "      <td>sydney — tennis australia chief executive stev...</td>\n",
       "      <td>sports</td>\n",
       "    </tr>\n",
       "    <tr>\n",
       "      <th>11526</th>\n",
       "      <td>stephen watts is the president of sap asia pac...</td>\n",
       "      <td>business</td>\n",
       "    </tr>\n",
       "  </tbody>\n",
       "</table>\n",
       "<p>11527 rows × 2 columns</p>\n",
       "</div>"
      ],
      "text/plain": [
       "                                                sentence     label\n",
       "0      nasa, in preparation for a spacewalk on saturd...   science\n",
       "1      if professional pride and strong defiance can ...    sports\n",
       "2      admittedly, the language is reconstructed and ...      arts\n",
       "3      palermo, sicily — roberta vinci beat top-seede...    sports\n",
       "4      the argentine soccer club san lorenzo complete...    sports\n",
       "...                                                  ...       ...\n",
       "11522  melbourne, australia — after the tears and the...    sports\n",
       "11523  perth, australia — wimbledon semifinalist jerz...    sports\n",
       "11524  while the nets are hoisting no. 5 to the barcl...    sports\n",
       "11525  sydney — tennis australia chief executive stev...    sports\n",
       "11526  stephen watts is the president of sap asia pac...  business\n",
       "\n",
       "[11527 rows x 2 columns]"
      ]
     },
     "execution_count": 13,
     "metadata": {},
     "output_type": "execute_result"
    }
   ],
   "source": [
    "# data_nyt"
   ]
  },
  {
   "cell_type": "markdown",
   "id": "d3032a96",
   "metadata": {},
   "source": [
    "# TF-IDF"
   ]
  },
  {
   "cell_type": "markdown",
   "id": "795b539d",
   "metadata": {},
   "source": [
    "## NYT"
   ]
  },
  {
   "cell_type": "markdown",
   "id": "731e9663",
   "metadata": {},
   "source": [
    "IR-TF-IDF treats the seed word set for each class as a query. The relevance of a document to a label is computed by aggregated TF-IDF values of its respective seed words. The label with the highest relevance is assigned to each document."
   ]
  },
  {
   "cell_type": "code",
   "execution_count": 14,
   "id": "a175939b",
   "metadata": {},
   "outputs": [],
   "source": [
    "# genres_nyt = {}\n",
    "# for genre,seed_words in seed_nyt.items():\n",
    "#     for seed_word in seed_words:\n",
    "#         genres_nyt[seed_word] = genre\n",
    "        \n",
    "# genres_nyt"
   ]
  },
  {
   "cell_type": "code",
   "execution_count": 15,
   "id": "48df88ea",
   "metadata": {},
   "outputs": [],
   "source": [
    "# ir-tf-idf replication\n",
    "\n",
    "# intialize vectorizer\n",
    "# tfidf_model = fe.text.TfidfVectorizer(input=\"content\", stop_words = {'english'})\n",
    "# tfidf_vector = tfidf_model.fit_transform(data_nyt[\"sentence\"])"
   ]
  },
  {
   "cell_type": "code",
   "execution_count": 16,
   "id": "8362a8d2",
   "metadata": {},
   "outputs": [],
   "source": [
    "#get vector with\n",
    "# filtered = list(filter(lambda item: item[1] in genres_nyt, zip(tfidf_vector[0].toarray()[0].tolist(),tfidf_model.get_feature_names_out())))"
   ]
  },
  {
   "cell_type": "code",
   "execution_count": 17,
   "id": "9822133f",
   "metadata": {},
   "outputs": [],
   "source": [
    "# list(filtered)\n",
    "# label_test = max(filtered, key=lambda item: item[0])\n",
    "# label_test[1]"
   ]
  },
  {
   "cell_type": "code",
   "execution_count": 18,
   "id": "393b18c4",
   "metadata": {},
   "outputs": [],
   "source": [
    "# nyt_tfidf = dict(zip(tfidf_model.get_feature_names_out()[i],tfidf_vector[].toarray()[0].tolist()[i]) for i in range(\n",
    "#     len(tfidf_model.get_feature_names_out())))\n",
    "# nyt_tfidf"
   ]
  },
  {
   "cell_type": "code",
   "execution_count": 19,
   "id": "c4f004d3",
   "metadata": {},
   "outputs": [],
   "source": [
    "# tfidf_model.get_feature_names_out()"
   ]
  },
  {
   "cell_type": "code",
   "execution_count": 20,
   "id": "2316f58a",
   "metadata": {},
   "outputs": [],
   "source": [
    "def ir_tfidf(data, seeds):\n",
    "    '''\n",
    "    Return a DataFrame of the input with predicted labels using IR-TF-IDF\n",
    "    \n",
    "    :param: data: a DataFrame with \"sentence\" and \"label\" attributes\n",
    "    :param: seeds: a dictionary of labels (keys) with a list of seed words (values)\n",
    "    '''\n",
    "    #reverse seeds dictionary\n",
    "    genres = {}\n",
    "    for genre,seed_words in seeds.items():\n",
    "        for seed_word in seed_words:\n",
    "            genres[seed_word] = genre\n",
    "            \n",
    "    data_ind = data.reset_index()\n",
    "            \n",
    "    model = fe.text.TfidfVectorizer(input=\"content\", stop_words = {'english'})\n",
    "    vector = model.fit_transform(data[\"sentence\"])\n",
    "    features = model.get_feature_names() #ADD _OUT FOR RECENT SKLEARN VERSION\n",
    "    \n",
    "    def predict(ind):\n",
    "        filtered = filter(lambda item: item[1] in genres, zip(vector[ind].toarray()[0].tolist(),features))\n",
    "        prediction = max(filtered, key=lambda item: item[0])\n",
    "        return genres[prediction[1]]\n",
    "    \n",
    "    df = data_ind.assign(prediction = data_ind[\"index\"].apply(predict))\n",
    "    return df"
   ]
  },
  {
   "cell_type": "code",
   "execution_count": 21,
   "id": "c423643d",
   "metadata": {},
   "outputs": [],
   "source": [
    "# tfidf_nyt = ir_tfidf(data_nyt,seed_nyt)"
   ]
  },
  {
   "cell_type": "code",
   "execution_count": 22,
   "id": "3bab6ceb",
   "metadata": {},
   "outputs": [],
   "source": [
    "# tfidf_nyt"
   ]
  },
  {
   "cell_type": "code",
   "execution_count": 23,
   "id": "7e022c1f",
   "metadata": {},
   "outputs": [],
   "source": [
    "# def score_F1(labels, predictions, averaging=\"micro\"):\n",
    "#     '''\n",
    "#     Returns the micro F1 score given a list of labels and a list of predictions\n",
    "    \n",
    "#     :param: labels: a list of labels\n",
    "#     :param: predictions: a list of predictions\n",
    "#     :param: averaging: type of averaging method to use\n",
    "#     '''\n",
    "#     score = m.f1_score(labels, predictions, average=averaging)\n",
    "#     return score"
   ]
  },
  {
   "cell_type": "code",
   "execution_count": 24,
   "id": "247f3a98",
   "metadata": {},
   "outputs": [],
   "source": [
    "# micro_nyt_tfidf = score_F1(tfidf_nyt[\"label\"], tfidf_nyt[\"prediction\"], \"micro\")\n",
    "# macro_nyt_tfidf = score_F1(tfidf_nyt[\"label\"], tfidf_nyt[\"prediction\"], \"macro\")"
   ]
  },
  {
   "cell_type": "code",
   "execution_count": 25,
   "id": "74c4f921",
   "metadata": {},
   "outputs": [],
   "source": [
    "# micro_nyt_tfidf"
   ]
  },
  {
   "cell_type": "code",
   "execution_count": 26,
   "id": "1ac6b92f",
   "metadata": {},
   "outputs": [],
   "source": [
    "# macro_nyt_tfidf"
   ]
  },
  {
   "cell_type": "code",
   "execution_count": 27,
   "id": "e1c34814",
   "metadata": {},
   "outputs": [],
   "source": [
    "# tfidf_20News = ir_tfidf(data_20news,seed_20news)"
   ]
  },
  {
   "cell_type": "code",
   "execution_count": 28,
   "id": "85722aae",
   "metadata": {},
   "outputs": [],
   "source": [
    "# tfidf_20News"
   ]
  },
  {
   "cell_type": "code",
   "execution_count": null,
   "id": "2b496e6e",
   "metadata": {},
   "outputs": [],
   "source": []
  }
 ],
 "metadata": {
  "kernelspec": {
   "display_name": "Python 3 (ipykernel)",
   "language": "python",
   "name": "python3"
  },
  "language_info": {
   "codemirror_mode": {
    "name": "ipython",
    "version": 3
   },
   "file_extension": ".py",
   "mimetype": "text/x-python",
   "name": "python",
   "nbconvert_exporter": "python",
   "pygments_lexer": "ipython3",
   "version": "3.9.5"
  }
 },
 "nbformat": 4,
 "nbformat_minor": 5
}
