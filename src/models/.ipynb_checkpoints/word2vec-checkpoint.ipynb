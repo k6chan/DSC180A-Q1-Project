{
 "cells": [
  {
   "cell_type": "code",
   "execution_count": 1,
   "id": "7157e219",
   "metadata": {},
   "outputs": [
    {
     "name": "stdout",
     "output_type": "stream",
     "text": [
      "Requirement already satisfied: gensim in /home/k6chan/.local/lib/python3.9/site-packages (4.2.0)\n",
      "Requirement already satisfied: smart-open>=1.8.1 in /home/k6chan/.local/lib/python3.9/site-packages (from gensim) (6.2.0)\n",
      "Requirement already satisfied: numpy>=1.17.0 in /opt/conda/lib/python3.9/site-packages (from gensim) (1.19.5)\n",
      "Requirement already satisfied: scipy>=0.18.1 in /opt/conda/lib/python3.9/site-packages (from gensim) (1.7.0)\n",
      "Note: you may need to restart the kernel to use updated packages.\n"
     ]
    }
   ],
   "source": [
    "pip install --user gensim"
   ]
  },
  {
   "cell_type": "code",
   "execution_count": 60,
   "id": "625558e6",
   "metadata": {},
   "outputs": [],
   "source": [
    "import pandas as pd\n",
    "import sklearn.feature_extraction as fe\n",
    "# import sklearn.metrics as m\n",
    "from gensim.models import Word2Vec\n",
    "from score_F1 import score_F1\n",
    "import string\n",
    "import numpy as np\n",
    "\n",
    "#\n",
    "import pickle\n",
    "import json\n",
    "import os\n",
    "\n"
   ]
  },
  {
   "cell_type": "markdown",
   "id": "687636ac",
   "metadata": {},
   "source": [
    "Notebook-only"
   ]
  },
  {
   "cell_type": "code",
   "execution_count": 3,
   "id": "224f11f4",
   "metadata": {},
   "outputs": [
    {
     "data": {
      "text/plain": [
       "['20News_coarse.pkl',\n",
       " 'nyt_seedwords.json',\n",
       " '20News_seedwords.json',\n",
       " 'nyt_coarse.pkl']"
      ]
     },
     "execution_count": 3,
     "metadata": {},
     "output_type": "execute_result"
    }
   ],
   "source": [
    "#\n",
    "original_directory = os.getcwd()\n",
    "os.chdir(\"../../data/raw\")\n",
    "os.listdir()"
   ]
  },
  {
   "cell_type": "code",
   "execution_count": 4,
   "id": "d353b119",
   "metadata": {},
   "outputs": [],
   "source": [
    "# read data\n",
    "\n",
    "#\n",
    "with open(\"nyt_coarse.pkl\", \"rb\") as fp:\n",
    "    data_nyt = pickle.load(fp)\n",
    "with open(\"20News_coarse.pkl\", \"rb\") as fp:\n",
    "    data_20news = pickle.load(fp)\n",
    "    \n",
    "with open(\"nyt_seedwords.json\") as fp:\n",
    "    seed_nyt = json.load(fp)\n",
    "with open(\"20News_seedwords.json\") as fp:\n",
    "    seed_20news = json.load(fp)"
   ]
  },
  {
   "cell_type": "code",
   "execution_count": 5,
   "id": "c03c3063",
   "metadata": {},
   "outputs": [
    {
     "data": {
      "text/html": [
       "<div>\n",
       "<style scoped>\n",
       "    .dataframe tbody tr th:only-of-type {\n",
       "        vertical-align: middle;\n",
       "    }\n",
       "\n",
       "    .dataframe tbody tr th {\n",
       "        vertical-align: top;\n",
       "    }\n",
       "\n",
       "    .dataframe thead th {\n",
       "        text-align: right;\n",
       "    }\n",
       "</style>\n",
       "<table border=\"1\" class=\"dataframe\">\n",
       "  <thead>\n",
       "    <tr style=\"text-align: right;\">\n",
       "      <th></th>\n",
       "      <th>sentence</th>\n",
       "      <th>label</th>\n",
       "    </tr>\n",
       "  </thead>\n",
       "  <tbody>\n",
       "    <tr>\n",
       "      <th>0</th>\n",
       "      <td>nasa, in preparation for a spacewalk on saturd...</td>\n",
       "      <td>science</td>\n",
       "    </tr>\n",
       "    <tr>\n",
       "      <th>1</th>\n",
       "      <td>if professional pride and strong defiance can ...</td>\n",
       "      <td>sports</td>\n",
       "    </tr>\n",
       "    <tr>\n",
       "      <th>2</th>\n",
       "      <td>admittedly, the language is reconstructed and ...</td>\n",
       "      <td>arts</td>\n",
       "    </tr>\n",
       "    <tr>\n",
       "      <th>3</th>\n",
       "      <td>palermo, sicily — roberta vinci beat top-seede...</td>\n",
       "      <td>sports</td>\n",
       "    </tr>\n",
       "    <tr>\n",
       "      <th>4</th>\n",
       "      <td>the argentine soccer club san lorenzo complete...</td>\n",
       "      <td>sports</td>\n",
       "    </tr>\n",
       "  </tbody>\n",
       "</table>\n",
       "</div>"
      ],
      "text/plain": [
       "                                            sentence    label\n",
       "0  nasa, in preparation for a spacewalk on saturd...  science\n",
       "1  if professional pride and strong defiance can ...   sports\n",
       "2  admittedly, the language is reconstructed and ...     arts\n",
       "3  palermo, sicily — roberta vinci beat top-seede...   sports\n",
       "4  the argentine soccer club san lorenzo complete...   sports"
      ]
     },
     "execution_count": 5,
     "metadata": {},
     "output_type": "execute_result"
    }
   ],
   "source": [
    "#\n",
    "data_nyt.head()\n",
    "# data_nyt.iloc[0][\"sentence\"]"
   ]
  },
  {
   "cell_type": "code",
   "execution_count": 6,
   "id": "7b7fb190",
   "metadata": {},
   "outputs": [
    {
     "data": {
      "text/html": [
       "<div>\n",
       "<style scoped>\n",
       "    .dataframe tbody tr th:only-of-type {\n",
       "        vertical-align: middle;\n",
       "    }\n",
       "\n",
       "    .dataframe tbody tr th {\n",
       "        vertical-align: top;\n",
       "    }\n",
       "\n",
       "    .dataframe thead th {\n",
       "        text-align: right;\n",
       "    }\n",
       "</style>\n",
       "<table border=\"1\" class=\"dataframe\">\n",
       "  <thead>\n",
       "    <tr style=\"text-align: right;\">\n",
       "      <th></th>\n",
       "      <th>sentence</th>\n",
       "      <th>label</th>\n",
       "    </tr>\n",
       "  </thead>\n",
       "  <tbody>\n",
       "    <tr>\n",
       "      <th>0</th>\n",
       "      <td>from:  (where's my thing)\\nsubject: what car i...</td>\n",
       "      <td>rec</td>\n",
       "    </tr>\n",
       "    <tr>\n",
       "      <th>1</th>\n",
       "      <td>from:  (guy kuo)\\nsubject: si clock poll - fin...</td>\n",
       "      <td>comp</td>\n",
       "    </tr>\n",
       "    <tr>\n",
       "      <th>2</th>\n",
       "      <td>from:  (thomas e willis)\\nsubject: pb question...</td>\n",
       "      <td>comp</td>\n",
       "    </tr>\n",
       "    <tr>\n",
       "      <th>3</th>\n",
       "      <td>from: jgreen@amber (joe green)\\nsubject: re: w...</td>\n",
       "      <td>comp</td>\n",
       "    </tr>\n",
       "    <tr>\n",
       "      <th>4</th>\n",
       "      <td>from:  (jonathan mcdowell)\\nsubject: re: shutt...</td>\n",
       "      <td>sci</td>\n",
       "    </tr>\n",
       "  </tbody>\n",
       "</table>\n",
       "</div>"
      ],
      "text/plain": [
       "                                            sentence label\n",
       "0  from:  (where's my thing)\\nsubject: what car i...   rec\n",
       "1  from:  (guy kuo)\\nsubject: si clock poll - fin...  comp\n",
       "2  from:  (thomas e willis)\\nsubject: pb question...  comp\n",
       "3  from: jgreen@amber (joe green)\\nsubject: re: w...  comp\n",
       "4  from:  (jonathan mcdowell)\\nsubject: re: shutt...   sci"
      ]
     },
     "execution_count": 6,
     "metadata": {},
     "output_type": "execute_result"
    }
   ],
   "source": [
    "#\n",
    "data_20news.head() #newline characters visible"
   ]
  },
  {
   "cell_type": "code",
   "execution_count": 7,
   "id": "a709a4b3",
   "metadata": {},
   "outputs": [
    {
     "data": {
      "text/plain": [
       "{'arts': ['music', 'orchestra', 'album', 'opera', 'ballet'],\n",
       " 'business': ['companies', 'euro', 'economy', 'batteries', 'sales'],\n",
       " 'science': ['space', 'researchers', 'scientists', 'research', 'science'],\n",
       " 'sports': ['yankees', 'cup', 'league', 'basketball', 'golf'],\n",
       " 'politics': ['republicans', 'senator', 'senate', 'democrats', 'election']}"
      ]
     },
     "execution_count": 7,
     "metadata": {},
     "output_type": "execute_result"
    }
   ],
   "source": [
    "#\n",
    "seed_nyt #same format as 20News seed words"
   ]
  },
  {
   "cell_type": "code",
   "execution_count": 8,
   "id": "5794db53",
   "metadata": {},
   "outputs": [
    {
     "data": {
      "text/plain": [
       "{'alt': ['atheism', 'atheists', 'religion', 'objective'],\n",
       " 'comp': ['graphics', 'windows', 'scsi', 'mac'],\n",
       " 'misc': ['sale', 'offer', 'shipping', 'forsale'],\n",
       " 'rec': ['car', 'bike', 'game', 'team'],\n",
       " 'sci': ['encryption', 'circuit', 'candida', 'space'],\n",
       " 'talk': ['turkish', 'gun', 'jews', 'armenian'],\n",
       " 'soc': ['church', 'jesus', 'christ', 'christians']}"
      ]
     },
     "execution_count": 8,
     "metadata": {},
     "output_type": "execute_result"
    }
   ],
   "source": [
    "seed_20news"
   ]
  },
  {
   "cell_type": "markdown",
   "id": "3cc31f3c",
   "metadata": {},
   "source": [
    "# Word2Vec"
   ]
  },
  {
   "cell_type": "code",
   "execution_count": 28,
   "id": "9d9302c7",
   "metadata": {},
   "outputs": [],
   "source": [
    "punctuation = set(string.punctuation)\n",
    "stopwords = set(fe.text.ENGLISH_STOP_WORDS)"
   ]
  },
  {
   "cell_type": "code",
   "execution_count": 65,
   "id": "2c8ea102",
   "metadata": {},
   "outputs": [],
   "source": [
    "def word2vec(data, seeds):\n",
    "    '''\n",
    "    Return a DataFrame of the input with predicted labels using Word2Vec\n",
    "    \n",
    "    :param: data: a DataFrame with a \"sentence\" attribute\n",
    "    :param: seeds: a dictionary of labels (keys) with a list of seed words (values)\n",
    "    '''\n",
    "    #reverse seeds dictionary\n",
    "    genres = {}\n",
    "    for genre,seed_words in seeds.items():\n",
    "        for seed_word in seed_words:\n",
    "            genres[seed_word] = genre\n",
    "            \n",
    "    data_ind = data.reset_index()\n",
    "    \n",
    "    #tokenize\n",
    "    def tokenize(sentence):\n",
    "        tokens = [w for w in (''.join([c for c in sentence.lower() if c not in punctuation]).split()) if w not in stopwords]\n",
    "        return tokens\n",
    "    \n",
    "    data_tokens = []\n",
    "    for row in data_ind.iterrows():\n",
    "        data_tokens.append(tokenize(row[1][\"sentence\"]))\n",
    "\n",
    "    model = Word2Vec(data_tokens)\n",
    "    \n",
    "    label_reps = {}\n",
    "    for label in seeds:\n",
    "        vectors = []\n",
    "        for seed_word in seeds[label]:\n",
    "            if seed_word not in model.wv:\n",
    "                continue\n",
    "            vectors.append(model.wv[seed_word])\n",
    "        label_rep = np.sum(vectors, axis=0)\n",
    "        label_reps[label] = label_rep\n",
    "    \n",
    "    return label_reps"
   ]
  },
  {
   "cell_type": "code",
   "execution_count": 66,
   "id": "b59d5e59",
   "metadata": {},
   "outputs": [
    {
     "data": {
      "text/plain": [
       "{'arts': array([ -5.7669477 ,   5.361135  ,   4.2986493 ,   4.869911  ,\n",
       "          2.01153   ,   2.7725165 ,   5.27667   ,  11.943637  ,\n",
       "         -2.725659  ,   4.598207  ,   2.4685156 ,  -6.345398  ,\n",
       "         -1.408405  ,  -1.0468535 ,  -3.3368104 ,   2.1568184 ,\n",
       "          2.3560781 ,   4.4626126 ,  -9.068302  ,  -6.019559  ,\n",
       "          0.58520937,  -0.33565342,   7.9704657 ,  -2.4937596 ,\n",
       "          4.717835  ,   1.7568325 ,   5.3093195 ,  -2.0466616 ,\n",
       "          4.2310047 ,   9.517244  ,  -0.23730284,   1.5388503 ,\n",
       "          1.6963158 ,  -4.2182107 ,  -1.462341  ,   7.1488028 ,\n",
       "          7.576909  ,   3.2525191 ,  -2.5906966 ,  -3.7959447 ,\n",
       "          3.3702004 ,  -0.32884732,   3.6870286 , -10.86172   ,\n",
       "         -5.721646  ,   5.659712  ,  -4.9779553 ,   5.3889146 ,\n",
       "          1.812465  ,   6.703001  ,  -2.857533  ,  -5.508524  ,\n",
       "         -3.3513384 ,   1.5741577 ,  -6.677045  ,  -6.4551735 ,\n",
       "          6.4733906 ,   5.850195  ,   2.8194864 ,  -0.14998627,\n",
       "         -4.340201  ,   6.3530574 ,   4.2787576 ,   2.4344132 ,\n",
       "         -2.4173474 ,  -9.564821  ,  -1.5003959 ,   4.479946  ,\n",
       "         -2.4782662 ,   3.3965282 ,  -4.2247386 ,  -2.9637475 ,\n",
       "          2.6604934 ,  -0.99111867,   3.8195155 ,  -7.874773  ,\n",
       "          3.874443  ,   3.9412262 ,  -7.78629   ,   0.606534  ,\n",
       "          4.8443694 , -10.565476  ,   3.3840804 ,  -3.625953  ,\n",
       "         -2.2080488 ,  -4.2613564 ,  -0.6279203 ,  -0.6196098 ,\n",
       "        -12.294148  , -13.037514  ,   5.098579  ,   7.1161017 ,\n",
       "         -8.2574215 ,  11.064466  ,  -2.1875243 ,   5.837393  ,\n",
       "          5.6496716 ,  -7.385724  ,   1.7294064 ,   4.257495  ],\n",
       "       dtype=float32),\n",
       " 'business': array([ 3.1667075e+00,  4.4960876e+00,  2.8976834e+00,  8.7119877e-01,\n",
       "         1.9649186e+00, -5.0929189e+00, -8.7858572e+00,  6.2817578e+00,\n",
       "        -2.9765878e+00, -8.5323019e+00,  7.1659603e+00, -2.5438181e-01,\n",
       "         5.3405848e+00, -3.2958641e+00,  3.6095984e+00, -2.9070530e+00,\n",
       "        -6.4326849e+00,  4.7199726e-02,  2.4884760e+00, -3.7376499e+00,\n",
       "        -2.5053935e+00,  5.0639021e-01,  1.0032537e+01, -4.4416192e-01,\n",
       "        -1.1294767e+00,  4.0355711e+00, -4.2937918e+00, -6.5326457e+00,\n",
       "         6.1821132e+00,  4.0843234e+00,  3.5738230e-01,  3.7436693e+00,\n",
       "         5.7799635e+00,  8.9263856e-01, -2.4317105e+00,  1.9336510e-01,\n",
       "         2.6157565e+00,  3.5375941e+00,  2.4873857e+00, -4.3954864e+00,\n",
       "         4.8513460e+00, -3.9276352e+00,  3.4815674e+00,  8.0219609e-01,\n",
       "         5.2661431e-01, -3.9020543e+00,  2.0271301e+00, -5.9388323e+00,\n",
       "         5.4031243e+00,  1.2066846e+00, -9.2172508e+00,  4.7299891e+00,\n",
       "        -3.5982323e+00, -3.0890369e+00,  9.2820692e+00, -1.1007592e-01,\n",
       "         7.1305871e-01,  8.2199097e-02,  1.4667914e+00, -2.5110705e+00,\n",
       "        -5.9207573e+00,  9.8045883e+00,  4.5438747e+00,  8.6050528e-01,\n",
       "        -9.1882362e+00, -1.7012594e+00,  4.5880124e-01, -4.3089714e+00,\n",
       "        -6.1864376e+00,  3.8791649e+00, -7.7726543e-02, -3.0135233e+00,\n",
       "         8.4243526e+00, -3.9641395e+00, -4.8385672e-02,  3.5518670e+00,\n",
       "         3.4419026e+00, -4.3416519e+00, -9.0356865e+00, -3.3482420e-01,\n",
       "         4.1634727e+00,  1.6520305e+00, -4.5470004e+00,  4.1043396e+00,\n",
       "        -6.9644074e+00, -8.2096949e+00,  5.8754721e+00,  1.0917129e+01,\n",
       "         4.2432475e+00,  1.1689281e+00, -2.9334576e+00,  5.9091439e+00,\n",
       "        -3.1843891e+00,  3.4537687e+00,  1.1045731e+00,  1.5632124e+00,\n",
       "        -1.5510507e-03, -6.1293979e+00,  3.1832604e+00,  2.6137080e+00],\n",
       "       dtype=float32),\n",
       " 'science': array([-4.6637774 ,  2.8252406 ,  3.6619837 ,  1.1382354 ,  0.6901419 ,\n",
       "        -2.6758761 , -6.798858  ,  6.4025555 , -2.3256917 , -5.2922387 ,\n",
       "         0.2734899 , -2.0340123 ,  2.7213492 , -1.3053901 , -0.15816152,\n",
       "        -0.13346143,  0.37747982, -4.8996453 ,  0.7184565 , -4.5514812 ,\n",
       "        -1.8610897 ,  2.6431794 ,  7.439527  ,  0.36666554,  0.03349364,\n",
       "         1.3641548 , -1.7390316 , -3.1431801 ,  3.3794603 ,  1.5158801 ,\n",
       "         3.5914907 ,  6.7276707 , -2.7630415 ,  1.4300779 ,  0.14295453,\n",
       "        -0.03993889,  2.2887669 , -1.0927613 , -1.7997913 , -1.9613335 ,\n",
       "         4.127783  , -1.2916576 , -2.7887192 , -4.8379154 ,  0.27863356,\n",
       "         1.4367228 , -4.1298065 ,  3.6554487 ,  0.79673564,  1.5476632 ,\n",
       "        -3.2131877 ,  3.1942046 , -2.3759086 ,  1.1531508 ,  0.805578  ,\n",
       "        -0.7099907 ,  0.8543074 ,  0.8591348 , -0.07866305,  0.39591295,\n",
       "        -2.0066566 ,  7.1236835 , -0.6469513 ,  1.2743946 , -5.1101403 ,\n",
       "        -4.402613  , -1.3159194 , -0.9719459 ,  0.09767729,  3.3286896 ,\n",
       "        -5.183626  , -2.7942264 ,  3.655983  , -1.2387357 , -0.5531874 ,\n",
       "        -1.0713207 ,  2.142406  , -0.85509133, -2.9938614 , -0.3387657 ,\n",
       "         1.9786599 , -2.5429413 , -2.098566  ,  1.1604937 , -4.484589  ,\n",
       "        -3.9601154 ,  1.6748333 ,  2.292175  ,  0.7627873 , -2.486467  ,\n",
       "        -0.5312609 ,  1.6695286 , -0.4068641 ,  1.8753703 ,  0.6434999 ,\n",
       "         5.2997403 ,  1.8097813 , -4.6354036 , -0.77513385,  3.2284596 ],\n",
       "       dtype=float32),\n",
       " 'sports': array([ 2.4268165e+00, -5.5010872e+00, -7.2293830e-01,  1.1663144e+01,\n",
       "        -2.4641807e+00,  5.6478429e+00,  5.4248199e+00, -2.2697544e+00,\n",
       "         4.5511031e+00, -7.8542266e+00,  1.8955386e+00, -5.3852358e+00,\n",
       "        -7.2818770e+00,  5.1260886e+00,  1.2130746e+00,  5.5393190e+00,\n",
       "        -3.0535274e+00, -1.0531455e+00, -1.9513545e+00,  2.8581123e+00,\n",
       "        -1.1537155e+01,  5.8598714e+00, -6.9420872e+00,  2.3204784e+00,\n",
       "         1.3110964e+00,  5.6343536e+00, -3.1967697e+00, -1.2690397e+01,\n",
       "        -6.6767612e+00,  4.5048237e+00, -2.6438124e+00, -5.8320862e-01,\n",
       "        -3.1422246e+00, -2.7581458e+00, -2.6151881e+00,  6.8088927e+00,\n",
       "        -6.6312971e+00, -8.4674129e+00,  4.9617906e+00, -5.6012344e+00,\n",
       "         4.6400952e+00, -3.3433275e+00, -4.3115072e+00,  3.6143878e+00,\n",
       "         3.8106260e+00, -5.5125318e+00, -3.9982307e+00, -7.5556450e+00,\n",
       "         3.1809530e+00,  7.0531473e+00, -7.8730232e-01, -9.6263351e+00,\n",
       "        -6.1998525e+00,  2.7161951e+00,  4.0815001e+00,  2.2536392e+00,\n",
       "         1.8054304e+00, -5.8078189e+00,  3.0432951e+00,  1.9960684e+00,\n",
       "        -3.2877111e+00, -5.4571700e-01,  2.4508533e+00,  1.9197007e+00,\n",
       "         4.4674931e+00,  6.0537572e+00,  7.0513612e-01,  4.9746828e+00,\n",
       "        -5.5127678e+00, -1.6768106e+00, -2.1975889e+00,  2.4285247e+00,\n",
       "         1.2396934e+00, -5.6429081e+00,  1.4311324e+00,  5.6119423e+00,\n",
       "        -4.3058910e+00,  7.5872707e+00, -2.5469098e+00, -2.5507820e+00,\n",
       "         3.5841589e+00, -2.2502880e+00,  1.5226557e+00,  3.2181625e+00,\n",
       "         1.5361075e+00, -1.2507115e-01,  1.0760728e+00,  1.0110545e-01,\n",
       "        -1.9886957e+00,  5.3703117e+00, -3.2995343e+00, -4.4871578e+00,\n",
       "        -1.7962655e+00,  9.3069744e+00,  5.9105930e+00, -8.7273145e-01,\n",
       "         4.8291330e+00,  1.8944274e+00,  3.5463696e+00,  1.0073662e-02],\n",
       "       dtype=float32),\n",
       " 'politics': array([-6.9576058e+00,  3.9267387e+00, -8.7050886e+00,  3.3715975e+00,\n",
       "         8.9182019e-01, -3.6146426e+00, -4.6442251e+00,  8.0800829e+00,\n",
       "         4.5387712e-01, -1.4213557e+00,  2.7630754e+00,  4.9766884e+00,\n",
       "         3.6842687e+00, -8.5201921e+00,  2.7304673e-01, -6.2348609e+00,\n",
       "         4.0080204e+00, -1.0151811e+01, -9.3992555e-01, -7.3210282e+00,\n",
       "        -5.3777695e-03,  7.1879494e-01,  3.8588886e+00,  2.5443792e+00,\n",
       "        -4.9608642e-01, -4.5681739e+00, -2.5847309e+00, -5.1163921e+00,\n",
       "         7.7353573e-01, -5.4154797e+00,  2.0486626e-01,  9.0266514e+00,\n",
       "         2.1158001e+00, -1.0699062e+00,  5.0313745e+00,  4.2439618e+00,\n",
       "        -1.0769305e+00, -1.8669283e+00,  8.2008594e-01,  2.5955671e-01,\n",
       "         2.1862447e+00,  1.0316650e+00, -1.6662254e+00, -3.6945243e+00,\n",
       "         7.3823290e+00, -1.0616274e+00, -9.7930181e-01, -2.2050636e+00,\n",
       "         4.3117875e-01, -1.3615071e+00, -4.1801491e+00,  3.7966349e+00,\n",
       "        -3.5337367e+00,  4.4215674e+00,  1.3329858e+00, -1.5975839e+00,\n",
       "        -4.8103493e-01,  7.0838332e-02, -8.3116941e+00, -1.9551021e+00,\n",
       "        -1.7482973e+00,  9.1943283e+00,  9.3182355e-01,  2.5669461e-01,\n",
       "        -8.9793911e+00, -3.1818523e+00, -1.3802807e+00,  2.5073442e+00,\n",
       "         6.3205714e+00,  4.0201740e+00,  5.4280787e+00,  5.8623064e-01,\n",
       "         1.8660711e+00, -7.8145665e-01,  1.1005498e+00,  2.1795459e-01,\n",
       "        -1.0183583e+00, -9.2608557e+00, -2.5856977e+00, -3.0722055e+00,\n",
       "        -3.1536922e+00, -1.5507995e-01, -7.6205177e+00,  4.1607137e+00,\n",
       "        -8.8865414e+00, -1.1702563e+00, -5.3149432e-01,  7.8159056e+00,\n",
       "         3.3200452e-01, -1.7391320e+00, -1.4142492e+00,  2.1534142e+00,\n",
       "         7.1910825e+00,  5.0106096e+00,  1.1500514e+00,  6.7026224e+00,\n",
       "        -1.5158355e-02, -1.2316517e+01, -6.2422109e-01,  3.8391223e+00],\n",
       "       dtype=float32)}"
      ]
     },
     "execution_count": 66,
     "metadata": {},
     "output_type": "execute_result"
    }
   ],
   "source": [
    "word2vec_nyt = word2vec(data_nyt, seed_nyt)\n",
    "word2vec_nyt"
   ]
  },
  {
   "cell_type": "code",
   "execution_count": 16,
   "id": "cc4eb986",
   "metadata": {},
   "outputs": [
    {
     "data": {
      "text/html": [
       "<div>\n",
       "<style scoped>\n",
       "    .dataframe tbody tr th:only-of-type {\n",
       "        vertical-align: middle;\n",
       "    }\n",
       "\n",
       "    .dataframe tbody tr th {\n",
       "        vertical-align: top;\n",
       "    }\n",
       "\n",
       "    .dataframe thead th {\n",
       "        text-align: right;\n",
       "    }\n",
       "</style>\n",
       "<table border=\"1\" class=\"dataframe\">\n",
       "  <thead>\n",
       "    <tr style=\"text-align: right;\">\n",
       "      <th></th>\n",
       "      <th>sentence</th>\n",
       "      <th>label</th>\n",
       "    </tr>\n",
       "  </thead>\n",
       "  <tbody>\n",
       "    <tr>\n",
       "      <th>0</th>\n",
       "      <td>from:  (where's my thing)\\nsubject: what car i...</td>\n",
       "      <td>rec</td>\n",
       "    </tr>\n",
       "    <tr>\n",
       "      <th>1</th>\n",
       "      <td>from:  (guy kuo)\\nsubject: si clock poll - fin...</td>\n",
       "      <td>comp</td>\n",
       "    </tr>\n",
       "    <tr>\n",
       "      <th>2</th>\n",
       "      <td>from:  (thomas e willis)\\nsubject: pb question...</td>\n",
       "      <td>comp</td>\n",
       "    </tr>\n",
       "    <tr>\n",
       "      <th>3</th>\n",
       "      <td>from: jgreen@amber (joe green)\\nsubject: re: w...</td>\n",
       "      <td>comp</td>\n",
       "    </tr>\n",
       "    <tr>\n",
       "      <th>4</th>\n",
       "      <td>from:  (jonathan mcdowell)\\nsubject: re: shutt...</td>\n",
       "      <td>sci</td>\n",
       "    </tr>\n",
       "    <tr>\n",
       "      <th>...</th>\n",
       "      <td>...</td>\n",
       "      <td>...</td>\n",
       "    </tr>\n",
       "    <tr>\n",
       "      <th>18254</th>\n",
       "      <td>from:  (stupendous man)\\nsubject: re: temperat...</td>\n",
       "      <td>sci</td>\n",
       "    </tr>\n",
       "    <tr>\n",
       "      <th>18255</th>\n",
       "      <td>from:  (jim smyton)\\nsubject: re: monitors - s...</td>\n",
       "      <td>comp</td>\n",
       "    </tr>\n",
       "    <tr>\n",
       "      <th>18256</th>\n",
       "      <td>from: \\nsubject: re: game length (was re: brav...</td>\n",
       "      <td>rec</td>\n",
       "    </tr>\n",
       "    <tr>\n",
       "      <th>18257</th>\n",
       "      <td>from:  \\nsubject: intel chmos 8086/8088 design...</td>\n",
       "      <td>misc</td>\n",
       "    </tr>\n",
       "    <tr>\n",
       "      <th>18258</th>\n",
       "      <td>from: \\nsubject: re: homosexuality issues in c...</td>\n",
       "      <td>soc</td>\n",
       "    </tr>\n",
       "  </tbody>\n",
       "</table>\n",
       "<p>18259 rows × 2 columns</p>\n",
       "</div>"
      ],
      "text/plain": [
       "                                                sentence label\n",
       "0      from:  (where's my thing)\\nsubject: what car i...   rec\n",
       "1      from:  (guy kuo)\\nsubject: si clock poll - fin...  comp\n",
       "2      from:  (thomas e willis)\\nsubject: pb question...  comp\n",
       "3      from: jgreen@amber (joe green)\\nsubject: re: w...  comp\n",
       "4      from:  (jonathan mcdowell)\\nsubject: re: shutt...   sci\n",
       "...                                                  ...   ...\n",
       "18254  from:  (stupendous man)\\nsubject: re: temperat...   sci\n",
       "18255  from:  (jim smyton)\\nsubject: re: monitors - s...  comp\n",
       "18256  from: \\nsubject: re: game length (was re: brav...   rec\n",
       "18257  from:  \\nsubject: intel chmos 8086/8088 design...  misc\n",
       "18258  from: \\nsubject: re: homosexuality issues in c...   soc\n",
       "\n",
       "[18259 rows x 2 columns]"
      ]
     },
     "execution_count": 16,
     "metadata": {},
     "output_type": "execute_result"
    }
   ],
   "source": [
    "data_20news"
   ]
  },
  {
   "cell_type": "markdown",
   "id": "d3032a96",
   "metadata": {},
   "source": [
    "# TF-IDF"
   ]
  },
  {
   "cell_type": "markdown",
   "id": "795b539d",
   "metadata": {},
   "source": [
    "## NYT"
   ]
  },
  {
   "cell_type": "markdown",
   "id": "731e9663",
   "metadata": {},
   "source": [
    "IR-TF-IDF treats the seed word set for each class as a query. The relevance of a document to a label is computed by aggregated TF-IDF values of its respective seed words. The label with the highest relevance is assigned to each document."
   ]
  },
  {
   "cell_type": "code",
   "execution_count": 7,
   "id": "a175939b",
   "metadata": {},
   "outputs": [],
   "source": [
    "# genres_nyt = {}\n",
    "# for genre,seed_words in seed_nyt.items():\n",
    "#     for seed_word in seed_words:\n",
    "#         genres_nyt[seed_word] = genre\n",
    "        \n",
    "# genres_nyt"
   ]
  },
  {
   "cell_type": "code",
   "execution_count": 8,
   "id": "48df88ea",
   "metadata": {},
   "outputs": [],
   "source": [
    "# ir-tf-idf replication\n",
    "\n",
    "# intialize vectorizer\n",
    "# tfidf_model = fe.text.TfidfVectorizer(input=\"content\", stop_words = {'english'})\n",
    "# tfidf_vector = tfidf_model.fit_transform(data_nyt[\"sentence\"])"
   ]
  },
  {
   "cell_type": "code",
   "execution_count": 9,
   "id": "8362a8d2",
   "metadata": {},
   "outputs": [],
   "source": [
    "#get vector with\n",
    "# filtered = list(filter(lambda item: item[1] in genres_nyt, zip(tfidf_vector[0].toarray()[0].tolist(),tfidf_model.get_feature_names_out())))"
   ]
  },
  {
   "cell_type": "code",
   "execution_count": 10,
   "id": "9822133f",
   "metadata": {},
   "outputs": [],
   "source": [
    "# list(filtered)\n",
    "# label_test = max(filtered, key=lambda item: item[0])\n",
    "# label_test[1]"
   ]
  },
  {
   "cell_type": "code",
   "execution_count": 11,
   "id": "393b18c4",
   "metadata": {},
   "outputs": [],
   "source": [
    "# nyt_tfidf = dict(zip(tfidf_model.get_feature_names_out()[i],tfidf_vector[].toarray()[0].tolist()[i]) for i in range(\n",
    "#     len(tfidf_model.get_feature_names_out())))\n",
    "# nyt_tfidf"
   ]
  },
  {
   "cell_type": "code",
   "execution_count": 12,
   "id": "c4f004d3",
   "metadata": {},
   "outputs": [],
   "source": [
    "# tfidf_model.get_feature_names_out()"
   ]
  },
  {
   "cell_type": "code",
   "execution_count": 41,
   "id": "2316f58a",
   "metadata": {},
   "outputs": [],
   "source": [
    "def ir_tfidf(data, seeds):\n",
    "    '''\n",
    "    Return a DataFrame of the input with predicted labels using IR-TF-IDF\n",
    "    \n",
    "    :param: data: a DataFrame with \"sentence\" and \"label\" attributes\n",
    "    :param: seeds: a dictionary of labels (keys) with a list of seed words (values)\n",
    "    '''\n",
    "    #reverse seeds dictionary\n",
    "    genres = {}\n",
    "    for genre,seed_words in seeds.items():\n",
    "        for seed_word in seed_words:\n",
    "            genres[seed_word] = genre\n",
    "            \n",
    "    data_ind = data.reset_index()\n",
    "            \n",
    "    model = fe.text.TfidfVectorizer(input=\"content\", stop_words = {'english'})\n",
    "    vector = model.fit_transform(data[\"sentence\"])\n",
    "    features = model.get_feature_names() #ADD _OUT FOR RECENT SKLEARN VERSION\n",
    "    \n",
    "    def predict(ind):\n",
    "        filtered = filter(lambda item: item[1] in genres, zip(vector[ind].toarray()[0].tolist(),features))\n",
    "        prediction = max(filtered, key=lambda item: item[0])\n",
    "        return genres[prediction[1]]\n",
    "    \n",
    "    df = data_ind.assign(prediction = data_ind[\"index\"].apply(predict))\n",
    "    return df"
   ]
  },
  {
   "cell_type": "code",
   "execution_count": 18,
   "id": "c423643d",
   "metadata": {},
   "outputs": [],
   "source": [
    "# tfidf_nyt = ir_tfidf(data_nyt,seed_nyt)"
   ]
  },
  {
   "cell_type": "code",
   "execution_count": 19,
   "id": "3bab6ceb",
   "metadata": {},
   "outputs": [
    {
     "data": {
      "text/html": [
       "<div>\n",
       "<style scoped>\n",
       "    .dataframe tbody tr th:only-of-type {\n",
       "        vertical-align: middle;\n",
       "    }\n",
       "\n",
       "    .dataframe tbody tr th {\n",
       "        vertical-align: top;\n",
       "    }\n",
       "\n",
       "    .dataframe thead th {\n",
       "        text-align: right;\n",
       "    }\n",
       "</style>\n",
       "<table border=\"1\" class=\"dataframe\">\n",
       "  <thead>\n",
       "    <tr style=\"text-align: right;\">\n",
       "      <th></th>\n",
       "      <th>index</th>\n",
       "      <th>sentence</th>\n",
       "      <th>label</th>\n",
       "      <th>prediction</th>\n",
       "    </tr>\n",
       "  </thead>\n",
       "  <tbody>\n",
       "    <tr>\n",
       "      <th>0</th>\n",
       "      <td>0</td>\n",
       "      <td>nasa, in preparation for a spacewalk on saturd...</td>\n",
       "      <td>science</td>\n",
       "      <td>science</td>\n",
       "    </tr>\n",
       "    <tr>\n",
       "      <th>1</th>\n",
       "      <td>1</td>\n",
       "      <td>if professional pride and strong defiance can ...</td>\n",
       "      <td>sports</td>\n",
       "      <td>sports</td>\n",
       "    </tr>\n",
       "    <tr>\n",
       "      <th>2</th>\n",
       "      <td>2</td>\n",
       "      <td>admittedly, the language is reconstructed and ...</td>\n",
       "      <td>arts</td>\n",
       "      <td>arts</td>\n",
       "    </tr>\n",
       "    <tr>\n",
       "      <th>3</th>\n",
       "      <td>3</td>\n",
       "      <td>palermo, sicily — roberta vinci beat top-seede...</td>\n",
       "      <td>sports</td>\n",
       "      <td>arts</td>\n",
       "    </tr>\n",
       "    <tr>\n",
       "      <th>4</th>\n",
       "      <td>4</td>\n",
       "      <td>the argentine soccer club san lorenzo complete...</td>\n",
       "      <td>sports</td>\n",
       "      <td>sports</td>\n",
       "    </tr>\n",
       "    <tr>\n",
       "      <th>...</th>\n",
       "      <td>...</td>\n",
       "      <td>...</td>\n",
       "      <td>...</td>\n",
       "      <td>...</td>\n",
       "    </tr>\n",
       "    <tr>\n",
       "      <th>11522</th>\n",
       "      <td>11522</td>\n",
       "      <td>melbourne, australia — after the tears and the...</td>\n",
       "      <td>sports</td>\n",
       "      <td>arts</td>\n",
       "    </tr>\n",
       "    <tr>\n",
       "      <th>11523</th>\n",
       "      <td>11523</td>\n",
       "      <td>perth, australia — wimbledon semifinalist jerz...</td>\n",
       "      <td>sports</td>\n",
       "      <td>sports</td>\n",
       "    </tr>\n",
       "    <tr>\n",
       "      <th>11524</th>\n",
       "      <td>11524</td>\n",
       "      <td>while the nets are hoisting no. 5 to the barcl...</td>\n",
       "      <td>sports</td>\n",
       "      <td>sports</td>\n",
       "    </tr>\n",
       "    <tr>\n",
       "      <th>11525</th>\n",
       "      <td>11525</td>\n",
       "      <td>sydney — tennis australia chief executive stev...</td>\n",
       "      <td>sports</td>\n",
       "      <td>arts</td>\n",
       "    </tr>\n",
       "    <tr>\n",
       "      <th>11526</th>\n",
       "      <td>11526</td>\n",
       "      <td>stephen watts is the president of sap asia pac...</td>\n",
       "      <td>business</td>\n",
       "      <td>arts</td>\n",
       "    </tr>\n",
       "  </tbody>\n",
       "</table>\n",
       "<p>11527 rows × 4 columns</p>\n",
       "</div>"
      ],
      "text/plain": [
       "       index                                           sentence     label  \\\n",
       "0          0  nasa, in preparation for a spacewalk on saturd...   science   \n",
       "1          1  if professional pride and strong defiance can ...    sports   \n",
       "2          2  admittedly, the language is reconstructed and ...      arts   \n",
       "3          3  palermo, sicily — roberta vinci beat top-seede...    sports   \n",
       "4          4  the argentine soccer club san lorenzo complete...    sports   \n",
       "...      ...                                                ...       ...   \n",
       "11522  11522  melbourne, australia — after the tears and the...    sports   \n",
       "11523  11523  perth, australia — wimbledon semifinalist jerz...    sports   \n",
       "11524  11524  while the nets are hoisting no. 5 to the barcl...    sports   \n",
       "11525  11525  sydney — tennis australia chief executive stev...    sports   \n",
       "11526  11526  stephen watts is the president of sap asia pac...  business   \n",
       "\n",
       "      prediction  \n",
       "0        science  \n",
       "1         sports  \n",
       "2           arts  \n",
       "3           arts  \n",
       "4         sports  \n",
       "...          ...  \n",
       "11522       arts  \n",
       "11523     sports  \n",
       "11524     sports  \n",
       "11525       arts  \n",
       "11526       arts  \n",
       "\n",
       "[11527 rows x 4 columns]"
      ]
     },
     "execution_count": 19,
     "metadata": {},
     "output_type": "execute_result"
    }
   ],
   "source": [
    "# tfidf_nyt"
   ]
  },
  {
   "cell_type": "code",
   "execution_count": 10,
   "id": "7e022c1f",
   "metadata": {},
   "outputs": [],
   "source": [
    "# def score_F1(labels, predictions, averaging=\"micro\"):\n",
    "#     '''\n",
    "#     Returns the micro F1 score given a list of labels and a list of predictions\n",
    "    \n",
    "#     :param: labels: a list of labels\n",
    "#     :param: predictions: a list of predictions\n",
    "#     :param: averaging: type of averaging method to use\n",
    "#     '''\n",
    "#     score = m.f1_score(labels, predictions, average=averaging)\n",
    "#     return score"
   ]
  },
  {
   "cell_type": "code",
   "execution_count": 34,
   "id": "247f3a98",
   "metadata": {},
   "outputs": [],
   "source": [
    "# micro_nyt_tfidf = score_F1(tfidf_nyt[\"label\"], tfidf_nyt[\"prediction\"], \"micro\")\n",
    "# macro_nyt_tfidf = score_F1(tfidf_nyt[\"label\"], tfidf_nyt[\"prediction\"], \"macro\")"
   ]
  },
  {
   "cell_type": "code",
   "execution_count": 35,
   "id": "74c4f921",
   "metadata": {},
   "outputs": [
    {
     "data": {
      "text/plain": [
       "0.6361585841936324"
      ]
     },
     "execution_count": 35,
     "metadata": {},
     "output_type": "execute_result"
    }
   ],
   "source": [
    "# micro_nyt_tfidf"
   ]
  },
  {
   "cell_type": "code",
   "execution_count": 36,
   "id": "1ac6b92f",
   "metadata": {},
   "outputs": [
    {
     "data": {
      "text/plain": [
       "0.49765851868243194"
      ]
     },
     "execution_count": 36,
     "metadata": {},
     "output_type": "execute_result"
    }
   ],
   "source": [
    "# macro_nyt_tfidf"
   ]
  },
  {
   "cell_type": "code",
   "execution_count": null,
   "id": "e1c34814",
   "metadata": {},
   "outputs": [],
   "source": [
    "# tfidf_20News = ir_tfidf(data_20news,seed_20news)"
   ]
  },
  {
   "cell_type": "code",
   "execution_count": null,
   "id": "85722aae",
   "metadata": {},
   "outputs": [],
   "source": [
    "# tfidf_20News"
   ]
  },
  {
   "cell_type": "code",
   "execution_count": null,
   "id": "2b496e6e",
   "metadata": {},
   "outputs": [],
   "source": []
  }
 ],
 "metadata": {
  "kernelspec": {
   "display_name": "Python 3 (ipykernel)",
   "language": "python",
   "name": "python3"
  },
  "language_info": {
   "codemirror_mode": {
    "name": "ipython",
    "version": 3
   },
   "file_extension": ".py",
   "mimetype": "text/x-python",
   "name": "python",
   "nbconvert_exporter": "python",
   "pygments_lexer": "ipython3",
   "version": "3.9.5"
  }
 },
 "nbformat": 4,
 "nbformat_minor": 5
}
